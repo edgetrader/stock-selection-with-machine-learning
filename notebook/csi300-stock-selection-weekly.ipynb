{
 "cells": [
  {
   "cell_type": "markdown",
   "metadata": {},
   "source": [
    "# Stock Selection using Machine Learning Techniques - Part 2\n",
    "by Chee-Foong（曾志峰）from Singapore（新加坡）on 28 Jul 2020\n",
    "\n",
    "## Summary\n",
    "\n",
    "This is a follow-up on an early [analysis](https://github.com/edgetrader/stock-selection-with-machine-learning/blob/master/notebook/csi300-stock-selection.ipynb).  Previously, we explored the portfolio performance Long-Only strategy based on monthly stock selection.  In this exercise, we studied the portfolio performance on weekly stock selection instead and allowed the portfolio to short securities when the model predicts a negative return in the week.\n",
    "\n",
    "In short,\n",
    "1.  Build a machine learning model to predict and categories 1-week returns of all securities in CSI 300.\n",
    "2.  45 factors will be used as inputs to the model.  Type of factors includes: Quality, Fundamental, Emotional, Growth, Risk, Momentum, Technical, etc.\n",
    "3.  Each predicted return will be categoried in A, B, C, D and E.  A being those that have more than 10% predicted returns and E being those that have less than -10% predicted returns.\n",
    "4.  Portfolio will perform stock selection and rebalance its holding at the end of the week.  Rebalancing of the portfolio is based modern portfolio theory:  Minimum volatility on the efficient frontier of selected securities.\n",
    "5.  This process will repeat every month and the strategy will be backtested to determine with whether the prediction model is good enough for consistent outperformance over the index/benchmark.\n",
    "\n",
    "I welcome any comments/feedbacks on this analysis.  If you spot any mistakes, please let me know.\n",
    "\n",
    "\n",
    "### References\n",
    "Thank you to the authors of the following references for their work and sharing what they have done.\n",
    "1. [A Sustainable Quantitative Stock Selection Strategy Based on Dynamic Factor Adjustment](https://www.researchgate.net/publication/341376900_A_Sustainable_Quantitative_Stock_Selection_Strategy_Based_on_Dynamic_Factor_Adjustment)\n",
    "2. [Stock selection strategy of A-share market based on rotation effect and random forest](https://www.researchgate.net/publication/341596634_Stock_selection_strategy_of_A-share_market_based_on_rotation_effect_and_random_forest)"
   ]
  },
  {
   "cell_type": "markdown",
   "metadata": {},
   "source": [
    "# Begin Analysis\n",
    "\n",
    "## Preparing Datasets for Model Training\n",
    "\n",
    "*Note that data extraction from JQData is not done in this analysis.  All data are loaded from csv files instead.*"
   ]
  },
  {
   "cell_type": "markdown",
   "metadata": {},
   "source": [
    "---\n",
    "### Loading the libraries"
   ]
  },
  {
   "cell_type": "code",
   "execution_count": 159,
   "metadata": {},
   "outputs": [],
   "source": [
    "import time\n",
    "import re\n",
    "import random\n",
    "import numpy as np\n",
    "import pandas as pd\n",
    "import os\n",
    "\n",
    "import seaborn as sns; sns.set()\n",
    "import matplotlib.pyplot as plt\n",
    "import matplotlib.ticker as ticker\n",
    "%matplotlib inline\n",
    "\n",
    "## Changing the default settings\n",
    "pd.options.display.max_columns = 50\n",
    "plt.rcParams.update({'figure.figsize':(15,6), 'figure.dpi':60})\n",
    "plt.style.use('fivethirtyeight')\n",
    "\n",
    "import warnings\n",
    "warnings.filterwarnings('ignore')\n",
    "\n",
    "import tensorflow as tf"
   ]
  },
  {
   "cell_type": "code",
   "execution_count": 143,
   "metadata": {},
   "outputs": [],
   "source": [
    "JQ = False  ## Set to true if running on JQData Research Platform\n",
    "\n",
    "def seedeverything(seed = 3333): \n",
    "    random.seed(seed) \n",
    "    np.random.seed(seed) \n",
    "    os.environ['PYTHONHASHSEED'] = str(seed) \n",
    "    if JQ:\n",
    "        tf.random.set_random_seed(seed)    \n",
    "    else:\n",
    "        tf.random.set_seed(seed) \n",
    "    \n",
    "SEED = 3333\n",
    "seedeverything(SEED)"
   ]
  },
  {
   "cell_type": "markdown",
   "metadata": {},
   "source": [
    "### Loading saved data\n",
    "\n",
    "1. **security_returns**:  Weekly returns of all securities in the benchmark\n",
    "2. **security_list**:  Name and other references of all securities in the benchmark\n",
    "3. **bmk_prices**:  Benchmark price series\n",
    "4. **prices**:  Price series of all securities in the benchmark\n",
    "5. **data**:  Calculated and consolidated return and factors of all securities over the whole period"
   ]
  },
  {
   "cell_type": "code",
   "execution_count": 144,
   "metadata": {},
   "outputs": [],
   "source": [
    "if JQ:\n",
    "    DATA_FOLDER = '../../factor-data-extraction/data-weekly/'\n",
    "else:\n",
    "    DATA_FOLDER = '../data-weekly/'"
   ]
  },
  {
   "cell_type": "code",
   "execution_count": 145,
   "metadata": {},
   "outputs": [],
   "source": [
    "security_returns = pd.read_csv(DATA_FOLDER + 'security_returns.csv')\n",
    "security_returns.date = pd.to_datetime(security_returns.date)\n",
    "security_returns = security_returns.set_index(['date', 'factor'])\n",
    "security_returns.columns.name = 'code'"
   ]
  },
  {
   "cell_type": "code",
   "execution_count": 146,
   "metadata": {},
   "outputs": [],
   "source": [
    "data = pd.read_csv(DATA_FOLDER + 'full_data.csv')\n",
    "data.date = pd.to_datetime(data.date)\n",
    "data = data.set_index(['date', 'factor'])\n",
    "data.columns.name = 'code'"
   ]
  },
  {
   "cell_type": "code",
   "execution_count": 147,
   "metadata": {},
   "outputs": [],
   "source": [
    "security_list = pd.read_csv(DATA_FOLDER + 'security_ref.csv')\n",
    "security_list = security_list.set_index(['symbol'])"
   ]
  },
  {
   "cell_type": "code",
   "execution_count": 148,
   "metadata": {},
   "outputs": [],
   "source": [
    "bmk_prices = pd.read_csv(DATA_FOLDER + 'bmk_prices.csv')\n",
    "bmk_prices.date = pd.to_datetime(bmk_prices.date)\n",
    "bmk_prices = bmk_prices.set_index(['date'])"
   ]
  },
  {
   "cell_type": "code",
   "execution_count": 149,
   "metadata": {},
   "outputs": [],
   "source": [
    "prices = pd.read_csv(DATA_FOLDER + 'security_prices.csv')\n",
    "prices.date = pd.to_datetime(prices.date)\n",
    "prices = prices.set_index(['date'])"
   ]
  },
  {
   "cell_type": "markdown",
   "metadata": {},
   "source": [
    "## Preparing Training Data\n",
    "Consolidate each monthly observations by features and their respective target in preparation for the training and testing dataset.\n",
    "\n",
    "### Helper function\n",
    "1. **getDataByDate**:  Extract returns and factors by date"
   ]
  },
  {
   "cell_type": "code",
   "execution_count": 150,
   "metadata": {},
   "outputs": [],
   "source": [
    "def getDataByDate(date):\n",
    "    idx = pd.IndexSlice\n",
    "    out = data.loc[idx[date, :], :].T\n",
    "    out.columns = out.columns.droplevel('date')\n",
    "    out.columns.name = ''\n",
    "    return out.reset_index()"
   ]
  },
  {
   "cell_type": "markdown",
   "metadata": {},
   "source": [
    "Define training period to be from 2015 to 2017"
   ]
  },
  {
   "cell_type": "code",
   "execution_count": 153,
   "metadata": {},
   "outputs": [
    {
     "name": "stdout",
     "output_type": "stream",
     "text": [
      "['2015-01-04', '2015-01-11', '2015-01-18', '2015-01-25', '2015-02-01', '2015-02-08', '2015-02-15', '2015-02-22', '2015-03-01', '2015-03-08', '2015-03-15', '2015-03-22', '2015-03-29', '2015-04-05', '2015-04-12', '2015-04-19', '2015-04-26', '2015-05-03', '2015-05-10', '2015-05-17', '2015-05-24', '2015-05-31', '2015-06-07', '2015-06-14', '2015-06-21', '2015-06-28', '2015-07-05', '2015-07-12', '2015-07-19', '2015-07-26', '2015-08-02', '2015-08-09', '2015-08-16', '2015-08-23', '2015-08-30', '2015-09-06', '2015-09-13', '2015-09-20', '2015-09-27', '2015-10-04', '2015-10-11', '2015-10-18', '2015-10-25', '2015-11-01', '2015-11-08', '2015-11-15', '2015-11-22', '2015-11-29', '2015-12-06', '2015-12-13', '2015-12-20', '2015-12-27', '2016-01-03', '2016-01-10', '2016-01-17', '2016-01-24', '2016-01-31', '2016-02-07', '2016-02-14', '2016-02-21', '2016-02-28', '2016-03-06', '2016-03-13', '2016-03-20', '2016-03-27', '2016-04-03', '2016-04-10', '2016-04-17', '2016-04-24', '2016-05-01', '2016-05-08', '2016-05-15', '2016-05-22', '2016-05-29', '2016-06-05', '2016-06-12', '2016-06-19', '2016-06-26', '2016-07-03', '2016-07-10', '2016-07-17', '2016-07-24', '2016-07-31', '2016-08-07', '2016-08-14', '2016-08-21', '2016-08-28', '2016-09-04', '2016-09-11', '2016-09-18', '2016-09-25', '2016-10-02', '2016-10-09', '2016-10-16', '2016-10-23', '2016-10-30', '2016-11-06', '2016-11-13', '2016-11-20', '2016-11-27', '2016-12-04', '2016-12-11', '2016-12-18', '2016-12-25', '2017-01-01', '2017-01-08', '2017-01-15', '2017-01-22', '2017-01-29', '2017-02-05', '2017-02-12', '2017-02-19', '2017-02-26', '2017-03-05', '2017-03-12', '2017-03-19', '2017-03-26', '2017-04-02', '2017-04-09', '2017-04-16', '2017-04-23', '2017-04-30', '2017-05-07', '2017-05-14', '2017-05-21', '2017-05-28', '2017-06-04', '2017-06-11', '2017-06-18', '2017-06-25', '2017-07-02', '2017-07-09', '2017-07-16', '2017-07-23', '2017-07-30', '2017-08-06', '2017-08-13', '2017-08-20', '2017-08-27', '2017-09-03', '2017-09-10', '2017-09-17', '2017-09-24', '2017-10-01', '2017-10-08', '2017-10-15', '2017-10-22', '2017-10-29', '2017-11-05', '2017-11-12', '2017-11-19', '2017-11-26', '2017-12-03', '2017-12-10', '2017-12-17', '2017-12-24', '2017-12-31']\n"
     ]
    }
   ],
   "source": [
    "train_startdate = '01-01-2015'\n",
    "train_enddate = '01-01-2018'\n",
    "sample_freq = 'W'\n",
    "\n",
    "date_list = pd.date_range(train_startdate, train_enddate, freq=sample_freq).strftime(\"%Y-%m-%d\").tolist()\n",
    "print(date_list)"
   ]
  },
  {
   "cell_type": "markdown",
   "metadata": {},
   "source": [
    "Note that the data on the first and last month are not used for training for the following reasons:\n",
    "- **first month**: Monthly return for the month cannot be calculated due to insufficient data\n",
    "- **last month**: All data in the month will be used to predict the monthly return next month hence cannot be used for training the model"
   ]
  },
  {
   "cell_type": "code",
   "execution_count": 154,
   "metadata": {},
   "outputs": [],
   "source": [
    "train = []\n",
    "for date in date_list[1:-1]:\n",
    "    out = getDataByDate(date)\n",
    "    train.append(out)\n",
    "\n",
    "train = pd.concat(train).reset_index(drop=True)"
   ]
  },
  {
   "cell_type": "code",
   "execution_count": 156,
   "metadata": {},
   "outputs": [],
   "source": [
    "# import seaborn as sns\n",
    "# sns.set()\n",
    "# sns.pairplot(train, height = 2.5)\n",
    "# plt.show()"
   ]
  },
  {
   "cell_type": "code",
   "execution_count": 160,
   "metadata": {},
   "outputs": [
    {
     "data": {
      "image/png": "[encoded data removed]",
      "text/plain": [
       "<Figure size 900x360 with 1 Axes>"
      ]
     },
     "metadata": {},
     "output_type": "display_data"
    }
   ],
   "source": [
    "sns.distplot(train.pct_chg_return, 100)\n",
    "plt.show()"
   ]
  },
  {
   "cell_type": "code",
   "execution_count": 161,
   "metadata": {},
   "outputs": [
    {
     "data": {
      "image/png": "[encoded data removed]",
      "text/plain": [
       "<Figure size 900x360 with 1 Axes>"
      ]
     },
     "metadata": {},
     "output_type": "display_data"
    }
   ],
   "source": [
    "sns.boxplot(train.pct_chg_return)\n",
    "plt.show()"
   ]
  },
  {
   "cell_type": "code",
   "execution_count": 162,
   "metadata": {},
   "outputs": [
    {
     "data": {
      "text/plain": [
       "count    40277.000000\n",
       "mean         0.005088\n",
       "std          0.067162\n",
       "min         -0.409116\n",
       "25%         -0.022163\n",
       "50%          0.000000\n",
       "75%          0.028424\n",
       "max          0.614243\n",
       "Name: pct_chg_return, dtype: float64"
      ]
     },
     "execution_count": 162,
     "metadata": {},
     "output_type": "execute_result"
    }
   ],
   "source": [
    "train.pct_chg_return.describe()"
   ]
  },
  {
   "cell_type": "markdown",
   "metadata": {},
   "source": [
    "Correlation of the consolidated data"
   ]
  },
  {
   "cell_type": "code",
   "execution_count": 163,
   "metadata": {},
   "outputs": [
    {
     "data": {
      "image/png": "[encoded data removed]",
      "text/plain": [
       "<Figure size 900x360 with 2 Axes>"
      ]
     },
     "metadata": {},
     "output_type": "display_data"
    }
   ],
   "source": [
    "sns.heatmap(train.corr(), cmap=\"YlGnBu\", center=0, linewidths=1, annot=False, fmt=\".2f\")\n",
    "plt.show()"
   ]
  },
  {
   "cell_type": "markdown",
   "metadata": {},
   "source": [
    "Removing observation with incomplete or missing data"
   ]
  },
  {
   "cell_type": "code",
   "execution_count": 164,
   "metadata": {},
   "outputs": [],
   "source": [
    "train.dropna(axis=0, inplace=True)"
   ]
  },
  {
   "cell_type": "code",
   "execution_count": 165,
   "metadata": {},
   "outputs": [
    {
     "name": "stdout",
     "output_type": "stream",
     "text": [
      "Number of securities dropped: 52\n"
     ]
    }
   ],
   "source": [
    "security_todrop = train.groupby('code').size()\n",
    "minsize = 52\n",
    "\n",
    "security_todrop = security_todrop[security_todrop.values < minsize].index.tolist()\n",
    "print('Number of securities dropped: {}'.format(len(security_todrop)))\n",
    "train = train[~train.code.isin(security_todrop)]"
   ]
  },
  {
   "cell_type": "markdown",
   "metadata": {},
   "source": [
    "Categorise the target to **return_range**.  "
   ]
  },
  {
   "cell_type": "markdown",
   "metadata": {},
   "source": [
    "| Return Category | LabelEncoded | Description |\n",
    "| :-: | :-: | --- |\n",
    "| A | 0 | Stocks with next month return more than 10% |\n",
    "| B | 1 | Stocks with next month return between 5% and 10% |\n",
    "| C | 2 | Stocks with next month return between 0% and 5% |\n",
    "| D | 3 | Stocks with next month return between -10% and 0% |\n",
    "| E | 4 | Stocks with next month return less than -10% |\n"
   ]
  },
  {
   "cell_type": "code",
   "execution_count": 167,
   "metadata": {},
   "outputs": [],
   "source": [
    "train['return_range'] = pd.cut(train['next_pct_chg_return'], \n",
    "       bins=[-float(\"inf\"),-0.1,0,0.05,0.1,float(\"inf\")], \n",
    "       right=False, labels=['E','D','C','B','A'])\n",
    "\n",
    "from sklearn.preprocessing import LabelEncoder\n",
    "le = LabelEncoder()\n",
    "\n",
    "train['return_range'] = le.fit_transform(train['return_range'])"
   ]
  },
  {
   "cell_type": "markdown",
   "metadata": {},
   "source": [
    "Note that **code** will be dropped after resampling."
   ]
  },
  {
   "cell_type": "code",
   "execution_count": 168,
   "metadata": {},
   "outputs": [],
   "source": [
    "target = ['return_range']\n",
    "to_drop = ['next_pct_chg_return']\n",
    "features = [column for column in train.columns if column not in target + to_drop]"
   ]
  },
  {
   "cell_type": "markdown",
   "metadata": {},
   "source": [
    "### Splitting into Training and Validation dataset\n",
    "\n",
    "Split data first before resampling.  "
   ]
  },
  {
   "cell_type": "code",
   "execution_count": 169,
   "metadata": {},
   "outputs": [],
   "source": [
    "X = train[features]\n",
    "y = train[target]"
   ]
  },
  {
   "cell_type": "code",
   "execution_count": 170,
   "metadata": {},
   "outputs": [],
   "source": [
    "from sklearn.model_selection import train_test_split\n",
    "from sklearn.preprocessing import LabelEncoder\n",
    "from sklearn.preprocessing import OneHotEncoder\n",
    "from sklearn.preprocessing import StandardScaler\n",
    "\n",
    "X_train, X_valid, y_train, y_valid = train_test_split(X, y, test_size=0.1, \n",
    "                                                      stratify=y, random_state=SEED)"
   ]
  },
  {
   "cell_type": "markdown",
   "metadata": {},
   "source": [
    "### Normalising the datasets\n",
    "- Fit and Transform on the training dataset\n",
    "- Transform only on the validation dataset using the scaler fitted with training dataset"
   ]
  },
  {
   "cell_type": "code",
   "execution_count": 171,
   "metadata": {},
   "outputs": [
    {
     "name": "stdout",
     "output_type": "stream",
     "text": [
      "List of columns to scale: ['ACCA', 'ATR14', 'DAVOL20', 'DEGM', 'EBIT', 'GMI', 'Kurtosis20', 'MAC20', 'MFI14', 'PEG', 'PLRC12', 'Price1M', 'ROC20', 'Skewness20', 'TRIX10', 'VMACD', 'VOL20', 'VOSC', 'Variance20', 'Volume1M', 'beta', 'boll_down', 'boll_up', 'book_to_price_ratio', 'cash_flow_to_price_ratio', 'cashflow_per_share_ttm', 'eps_ttm', 'financial_liability', 'growth', 'liquidity', 'market_cap', 'momentum', 'net_asset_growth_rate', 'net_asset_per_share', 'net_operate_cash_flow_per_share', 'net_operate_cashflow_growth_rate', 'net_profit_growth_rate', 'net_profit_to_total_operate_revenue_ttm', 'net_profit_ttm', 'operating_revenue_growth_rate', 'pct_chg_return', 'retained_earnings_per_share', 'roe_ttm', 'sharpe_ratio_20', 'sharpe_ratio_60', 'size']\n"
     ]
    }
   ],
   "source": [
    "col_toscale = X_train.columns.tolist()\n",
    "col_toscale.remove('code')\n",
    "print('List of columns to scale: {}'.format(col_toscale))"
   ]
  },
  {
   "cell_type": "code",
   "execution_count": 172,
   "metadata": {},
   "outputs": [],
   "source": [
    "def processStdScaler(train, valid, columns):\n",
    "    \n",
    "    train_scaled = train.copy()\n",
    "    valid_scaled = valid.copy()\n",
    "\n",
    "    scaler = StandardScaler()\n",
    "    scaler.fit(train[columns])\n",
    "    train_scaled[columns] = scaler.transform(train[columns])\n",
    "    valid_scaled[columns] = scaler.transform(valid[columns])\n",
    "\n",
    "    return train_scaled, valid_scaled, scaler"
   ]
  },
  {
   "cell_type": "code",
   "execution_count": 173,
   "metadata": {},
   "outputs": [],
   "source": [
    "X_train_std, X_valid_std, scaler = processStdScaler(X_train, X_valid, col_toscale)"
   ]
  },
  {
   "cell_type": "code",
   "execution_count": 174,
   "metadata": {},
   "outputs": [],
   "source": [
    "X_train = X_train_std\n",
    "X_valid = X_valid_std"
   ]
  },
  {
   "cell_type": "markdown",
   "metadata": {},
   "source": [
    "### Resampling the Training dataset\n",
    "Resampling is only done on the training dataset due to imbalanced target variable.  Upsampling will be done and be only conducted after the training dataset is normalised."
   ]
  },
  {
   "cell_type": "code",
   "execution_count": 175,
   "metadata": {},
   "outputs": [
    {
     "data": {
      "text/plain": [
       "return_range\n",
       "0     789\n",
       "1    1558\n",
       "2    5467\n",
       "3    5877\n",
       "4     621\n",
       "dtype: int64"
      ]
     },
     "execution_count": 175,
     "metadata": {},
     "output_type": "execute_result"
    }
   ],
   "source": [
    "y_train.groupby('return_range').size()"
   ]
  },
  {
   "cell_type": "code",
   "execution_count": 176,
   "metadata": {},
   "outputs": [
    {
     "data": {
      "text/plain": [
       "3    5877\n",
       "2    5467\n",
       "1    1558\n",
       "0     789\n",
       "4     621\n",
       "Name: return_range, dtype: int64"
      ]
     },
     "execution_count": 176,
     "metadata": {},
     "output_type": "execute_result"
    }
   ],
   "source": [
    "y_train.return_range.value_counts()"
   ]
  },
  {
   "cell_type": "markdown",
   "metadata": {},
   "source": [
    "Observed imbalanced training data set as shown above"
   ]
  },
  {
   "cell_type": "code",
   "execution_count": 177,
   "metadata": {},
   "outputs": [],
   "source": [
    "from sklearn.utils import resample\n",
    "\n",
    "def upsample_byCol(data, column, code):\n",
    "    maxN = data.groupby(column).size().max()\n",
    "\n",
    "    df = data[data[column] == code]\n",
    "    num = maxN - df.shape[0]\n",
    "    if num > 0:\n",
    "        df_more = resample(df, replace=True, n_samples=num, random_state=SEED)\n",
    "        df = pd.concat([df, df_more])\n",
    "    return df"
   ]
  },
  {
   "cell_type": "markdown",
   "metadata": {},
   "source": [
    "Upsampling securities with fewer observations on training dataset only"
   ]
  },
  {
   "cell_type": "code",
   "execution_count": 178,
   "metadata": {},
   "outputs": [],
   "source": [
    "Xy_train = pd.concat([X_train, y_train], axis = 1)"
   ]
  },
  {
   "cell_type": "code",
   "execution_count": 179,
   "metadata": {},
   "outputs": [],
   "source": [
    "train_resample = []\n",
    "\n",
    "return_ranges = Xy_train['return_range'].unique()\n",
    "for return_range in return_ranges:\n",
    "    code_resampled = upsample_byCol(Xy_train, 'return_range', return_range)\n",
    "    train_resample.append(code_resampled)\n",
    "    \n",
    "Xy_train = pd.concat(train_resample).reset_index(drop=True)\n",
    "Xy_train = Xy_train.sample(frac=1).reset_index(drop=True)"
   ]
  },
  {
   "cell_type": "code",
   "execution_count": 180,
   "metadata": {},
   "outputs": [
    {
     "data": {
      "text/plain": [
       "return_range\n",
       "0    5877\n",
       "1    5877\n",
       "2    5877\n",
       "3    5877\n",
       "4    5877\n",
       "dtype: int64"
      ]
     },
     "execution_count": 180,
     "metadata": {},
     "output_type": "execute_result"
    }
   ],
   "source": [
    "Xy_train.groupby('return_range').size()"
   ]
  },
  {
   "cell_type": "markdown",
   "metadata": {},
   "source": [
    "After ensuring a balanced training dataset, prepare the features and target of the training and validation dataset respectively."
   ]
  },
  {
   "cell_type": "code",
   "execution_count": 181,
   "metadata": {},
   "outputs": [],
   "source": [
    "target = ['return_range']\n",
    "to_drop = ['code']\n",
    "features = [column for column in Xy_train.columns if column not in target + to_drop]\n",
    "\n",
    "X_train = Xy_train[features]\n",
    "y_train = Xy_train[target]\n",
    "\n",
    "X_valid = X_valid[features]\n",
    "y_valid = y_valid[target]"
   ]
  },
  {
   "cell_type": "markdown",
   "metadata": {},
   "source": [
    "Prepare and check the class weights for model training later."
   ]
  },
  {
   "cell_type": "code",
   "execution_count": 182,
   "metadata": {},
   "outputs": [
    {
     "data": {
      "text/plain": [
       "array([1., 1., 1., 1., 1.])"
      ]
     },
     "execution_count": 182,
     "metadata": {},
     "output_type": "execute_result"
    }
   ],
   "source": [
    "from sklearn.utils import class_weight\n",
    "class_weights = class_weight.compute_class_weight('balanced', np.unique(y_train.return_range), \n",
    "                                                  np.array(y_train.return_range))\n",
    "class_weights"
   ]
  },
  {
   "cell_type": "markdown",
   "metadata": {},
   "source": [
    "### Prepare Training and Validation dataset for GridSearch\n",
    "\n",
    "This will have to be done separately because we need the grid search to tune the parameters by validating against a dataset we provide and not automatically sampled from the training dataset that has been resampled.  We want samples in the validation dataset to be unseen in the training dataset.\n",
    "\n",
    "In order to do this properly for GridSearchCV, we need to use PredefinedSplit and fit GridSearchCV with the full dataset."
   ]
  },
  {
   "cell_type": "code",
   "execution_count": 183,
   "metadata": {},
   "outputs": [],
   "source": [
    "Xy_trainGS = X_train.join(y_train)\n",
    "Xy_validGS = X_valid.join(y_valid)"
   ]
  },
  {
   "cell_type": "code",
   "execution_count": 184,
   "metadata": {},
   "outputs": [],
   "source": [
    "from sklearn.model_selection import PredefinedSplit\n",
    "\n",
    "# Create a list where train data indices are -1 and validation data indices are 0\n",
    "# eg: split_index = [-1 if x in X_train.index else 0 for x in X.index]\n",
    "split_index = [-1] * Xy_trainGS.shape[0] + [0] * Xy_validGS.shape[0] \n",
    "\n",
    "# Use the list to create PredefinedSplit\n",
    "pds_GridSearch = PredefinedSplit(test_fold = split_index)"
   ]
  },
  {
   "cell_type": "code",
   "execution_count": 185,
   "metadata": {},
   "outputs": [],
   "source": [
    "Xy_GS = pd.concat([Xy_trainGS, Xy_validGS]).reset_index(drop=True) \n",
    "X_GS = Xy_GS[features]\n",
    "y_GS = Xy_GS[target]"
   ]
  },
  {
   "cell_type": "markdown",
   "metadata": {},
   "source": [
    "### One Hot Encoding for Target variable\n",
    "\n",
    "*Not necessary of model training here*"
   ]
  },
  {
   "cell_type": "code",
   "execution_count": 186,
   "metadata": {},
   "outputs": [],
   "source": [
    "# targetOHE = OneHotEncoder(sparse=False, handle_unknown='error')\n",
    "\n",
    "# y_train_ohe = targetOHE.fit_transform(y_train)\n",
    "# y_train_ohe = pd.DataFrame(y_train_ohe, columns=targetOHE.active_features_)\n",
    "# print(y_train_ohe.shape)\n",
    "\n",
    "# y_valid_ohe = targetOHE.transform(y_valid)\n",
    "# y_valid_ohe = pd.DataFrame(y_valid_ohe, columns=targetOHE.active_features_)\n",
    "# print(y_valid_ohe.shape)"
   ]
  },
  {
   "cell_type": "code",
   "execution_count": 187,
   "metadata": {},
   "outputs": [],
   "source": [
    "# y_GS_ohe = targetOHE.transform(y_GS)\n",
    "# y_GS_ohe = pd.DataFrame(y_GS_ohe, columns=targetOHE.active_features_)\n",
    "# print(y_GS_ohe.shape)"
   ]
  },
  {
   "cell_type": "markdown",
   "metadata": {},
   "source": [
    "### Finalising the Datasets\n",
    "\n",
    "Keeping a copy of the validation target dataframe for confusion matrix later"
   ]
  },
  {
   "cell_type": "code",
   "execution_count": 188,
   "metadata": {},
   "outputs": [],
   "source": [
    "X_valid_org = X_valid.copy()\n",
    "y_valid_org = y_valid.copy()"
   ]
  },
  {
   "cell_type": "markdown",
   "metadata": {},
   "source": [
    "Convert to numpy arrays for tensorflow keras model training  \n",
    "*Not necessary for machine learning models here*"
   ]
  },
  {
   "cell_type": "code",
   "execution_count": 189,
   "metadata": {},
   "outputs": [],
   "source": [
    "# X_train = np.array(X_train)\n",
    "# y_train = np.array(y_train)\n",
    "# X_valid = np.array(X_valid)\n",
    "# y_valid = np.array(y_valid)\n",
    "\n",
    "# X_GS = np.array(X_GS)\n",
    "# y_GS = np.array(y_GS)"
   ]
  },
  {
   "cell_type": "code",
   "execution_count": 190,
   "metadata": {},
   "outputs": [
    {
     "name": "stdout",
     "output_type": "stream",
     "text": [
      "(29385, 46)\n",
      "(29385, 1)\n",
      "(1591, 46)\n",
      "(1591, 1)\n",
      "(30976, 46)\n",
      "(30976, 1)\n"
     ]
    }
   ],
   "source": [
    "print(X_train.shape)\n",
    "print(y_train.shape)\n",
    "print(X_valid.shape)\n",
    "print(y_valid.shape)\n",
    "print(X_GS.shape)\n",
    "print(y_GS.shape)\n"
   ]
  },
  {
   "cell_type": "markdown",
   "metadata": {},
   "source": [
    "Loading the model libraries"
   ]
  },
  {
   "cell_type": "code",
   "execution_count": 191,
   "metadata": {},
   "outputs": [],
   "source": [
    "from lightgbm import LGBMClassifier, plot_importance, plot_tree\n",
    "from sklearn.ensemble import RandomForestClassifier\n",
    "from sklearn.ensemble import GradientBoostingClassifier\n",
    "from xgboost import XGBClassifier\n",
    "from sklearn.ensemble import VotingClassifier\n",
    "\n",
    "from sklearn.model_selection import RepeatedStratifiedKFold\n",
    "from sklearn.model_selection import cross_val_score, ShuffleSplit, cross_validate\n",
    "\n",
    "from sklearn.metrics import accuracy_score\n",
    "from sklearn.metrics import mean_squared_error "
   ]
  },
  {
   "cell_type": "markdown",
   "metadata": {},
   "source": [
    "### Training Data test on trial model\n",
    "Just to ensure the training dataset is constructed and transformed correctly"
   ]
  },
  {
   "cell_type": "code",
   "execution_count": 192,
   "metadata": {},
   "outputs": [
    {
     "name": "stdout",
     "output_type": "stream",
     "text": [
      "Accuracy: 0.390 (0.000)\n"
     ]
    }
   ],
   "source": [
    "SEED = 3333\n",
    "\n",
    "# evaluate the model\n",
    "lgbm = LGBMClassifier()\n",
    "\n",
    "# cv = RepeatedStratifiedKFold(n_splits=3, n_repeats=2, random_state=SEED)\n",
    "n_scores = cross_val_score(lgbm, X_GS, y_GS, scoring='accuracy', cv=pds_GridSearch, n_jobs=-1)\n",
    "print('Accuracy: %.3f (%.3f)' % (np.mean(n_scores), np.std(n_scores)))"
   ]
  },
  {
   "cell_type": "markdown",
   "metadata": {},
   "source": [
    "## Model Building\n",
    "### Hyperparameter tuning for various models\n",
    "\n",
    "- Light GBM\n",
    "- Random Forest\n",
    "- Gradient Boosting Classifier\n",
    "- XGBoost"
   ]
  },
  {
   "cell_type": "code",
   "execution_count": 48,
   "metadata": {},
   "outputs": [],
   "source": [
    "from sklearn.model_selection import GridSearchCV"
   ]
  },
  {
   "cell_type": "code",
   "execution_count": 49,
   "metadata": {},
   "outputs": [],
   "source": [
    "models = [\n",
    "    ('lgbm', LGBMClassifier()),\n",
    "    ('rf', RandomForestClassifier()),\n",
    "    ('gb', GradientBoostingClassifier()),\n",
    "    ('xgb', XGBClassifier())\n",
    "]\n",
    "\n",
    "n_estimators = [200]\n",
    "max_features = [0.6, 0.8]\n",
    "max_depth = [8, 10, 12]\n",
    "learning_rate = [0.001, 0.0005]\n",
    "subsample = [0.6, 0.8]\n",
    "gamma = [0.01, 0.02, 0.03]\n",
    "num_leaves = [10,15]\n",
    "\n",
    "grid_param = [\n",
    "    [{ ## lgbm\n",
    "        'learning_rate': learning_rate,\n",
    "        'max_depth': max_depth,\n",
    "        'n_estimators': n_estimators,\n",
    "        'num_leaves': num_leaves,\n",
    "#         'reg_alpha': alpha_l1,\n",
    "#         'reg_lambda': lambda_l2,\n",
    "        'subsample': subsample,\n",
    "        'colsample_bytree': max_features,\n",
    "        'random_state': [SEED]  \n",
    "    }],\n",
    "    [{ ## rf\n",
    "        'n_estimators': n_estimators,\n",
    "        'max_features': max_features,\n",
    "        'max_depth': max_depth,\n",
    "        'max_samples': subsample,\n",
    "        'criterion': ['gini', 'entropy'],\n",
    "        'oob_score': [True],\n",
    "        'random_state': [SEED]\n",
    "    }],\n",
    "    [{ ## gb\n",
    "        'n_estimators': n_estimators,\n",
    "        'subsample': subsample,\n",
    "        'max_features': max_features,\n",
    "        'max_depth': max_depth,\n",
    "        'learning_rate': learning_rate,\n",
    "        'random_state': [SEED]\n",
    "    }],\n",
    "    [{ ## xgb\n",
    "        'learning_rate': learning_rate,\n",
    "        'max_depth': max_depth,\n",
    "        'n_estimators': n_estimators,\n",
    "        'gamma': gamma,\n",
    "#         'reg_alpha': alpha_l1,\n",
    "#         'reg_lambda': lambda_l2,\n",
    "        'subsample': subsample,\n",
    "        'colsample_bytree': max_features,\n",
    "        'seed': [SEED]  \n",
    "    }]\n",
    "]\n"
   ]
  },
  {
   "cell_type": "code",
   "execution_count": 50,
   "metadata": {},
   "outputs": [],
   "source": [
    "cv_split = RepeatedStratifiedKFold(n_splits=10, n_repeats=3, random_state=SEED)"
   ]
  },
  {
   "cell_type": "code",
   "execution_count": 51,
   "metadata": {},
   "outputs": [
    {
     "name": "stdout",
     "output_type": "stream",
     "text": [
      "LGBMClassifier(boosting_type='gbdt', class_weight=None, colsample_bytree=1.0,\n",
      "               importance_type='split', learning_rate=0.1, max_depth=-1,\n",
      "               min_child_samples=20, min_child_weight=0.001, min_split_gain=0.0,\n",
      "               n_estimators=100, n_jobs=-1, num_leaves=31, objective=None,\n",
      "               random_state=None, reg_alpha=0.0, reg_lambda=0.0, silent=True,\n",
      "               subsample=1.0, subsample_for_bin=200000, subsample_freq=0)\n",
      "[{'learning_rate': [0.001, 0.0005], 'max_depth': [8, 10, 12], 'n_estimators': [200], 'num_leaves': [10, 15], 'subsample': [0.6, 0.8], 'colsample_bytree': [0.6, 0.8], 'random_state': [3333]}]\n",
      "\n",
      "######\n",
      "The best parameter for LGBMClassifier is {'colsample_bytree': 0.6, 'learning_rate': 0.001, 'max_depth': 10, 'n_estimators': 200, 'num_leaves': 15, 'random_state': 3333, 'subsample': 0.6} with a runtime of 1.97 minutes.\n",
      "######\n",
      "\n",
      "RandomForestClassifier(bootstrap=True, ccp_alpha=0.0, class_weight=None,\n",
      "                       criterion='gini', max_depth=None, max_features='auto',\n",
      "                       max_leaf_nodes=None, max_samples=None,\n",
      "                       min_impurity_decrease=0.0, min_impurity_split=None,\n",
      "                       min_samples_leaf=1, min_samples_split=2,\n",
      "                       min_weight_fraction_leaf=0.0, n_estimators=100,\n",
      "                       n_jobs=None, oob_score=False, random_state=None,\n",
      "                       verbose=0, warm_start=False)\n",
      "[{'n_estimators': [200], 'max_features': [0.6, 0.8], 'max_depth': [8, 10, 12], 'max_samples': [0.6, 0.8], 'criterion': ['gini', 'entropy'], 'oob_score': [True], 'random_state': [3333]}]\n",
      "\n",
      "######\n",
      "The best parameter for RandomForestClassifier is {'criterion': 'gini', 'max_depth': 12, 'max_features': 0.6, 'max_samples': 0.8, 'n_estimators': 200, 'oob_score': True, 'random_state': 3333} with a runtime of 32.69 minutes.\n",
      "######\n",
      "\n",
      "GradientBoostingClassifier(ccp_alpha=0.0, criterion='friedman_mse', init=None,\n",
      "                           learning_rate=0.1, loss='deviance', max_depth=3,\n",
      "                           max_features=None, max_leaf_nodes=None,\n",
      "                           min_impurity_decrease=0.0, min_impurity_split=None,\n",
      "                           min_samples_leaf=1, min_samples_split=2,\n",
      "                           min_weight_fraction_leaf=0.0, n_estimators=100,\n",
      "                           n_iter_no_change=None, presort='deprecated',\n",
      "                           random_state=None, subsample=1.0, tol=0.0001,\n",
      "                           validation_fraction=0.1, verbose=0,\n",
      "                           warm_start=False)\n",
      "[{'n_estimators': [200], 'subsample': [0.6, 0.8], 'max_features': [0.6, 0.8], 'max_depth': [8, 10, 12], 'learning_rate': [0.001, 0.0005], 'random_state': [3333]}]\n",
      "\n",
      "######\n",
      "The best parameter for GradientBoostingClassifier is {'learning_rate': 0.0005, 'max_depth': 12, 'max_features': 0.6, 'n_estimators': 200, 'random_state': 3333, 'subsample': 0.8} with a runtime of 147.00 minutes.\n",
      "######\n",
      "\n",
      "XGBClassifier(base_score=None, booster=None, colsample_bylevel=None,\n",
      "              colsample_bynode=None, colsample_bytree=None, gamma=None,\n",
      "              gpu_id=None, importance_type='gain', interaction_constraints=None,\n",
      "              learning_rate=None, max_delta_step=None, max_depth=None,\n",
      "              min_child_weight=None, missing=nan, monotone_constraints=None,\n",
      "              n_estimators=100, n_jobs=None, num_parallel_tree=None,\n",
      "              objective='binary:logistic', random_state=None, reg_alpha=None,\n",
      "              reg_lambda=None, scale_pos_weight=None, subsample=None,\n",
      "              tree_method=None, validate_parameters=False, verbosity=None)\n",
      "[{'learning_rate': [0.001, 0.0005], 'max_depth': [8, 10, 12], 'n_estimators': [200], 'gamma': [0.01, 0.02, 0.03], 'subsample': [0.6, 0.8], 'colsample_bytree': [0.6, 0.8], 'seed': [3333]}]\n",
      "\n",
      "######\n",
      "The best parameter for XGBClassifier is {'colsample_bytree': 0.6, 'gamma': 0.01, 'learning_rate': 0.0005, 'max_depth': 12, 'n_estimators': 200, 'seed': 3333, 'subsample': 0.8} with a runtime of 50.95 minutes.\n",
      "######\n",
      "\n",
      "Total optimization time was 232.62 minutes.\n",
      "----------\n"
     ]
    }
   ],
   "source": [
    "start_total = time.perf_counter()\n",
    "\n",
    "for model, param in zip (models, grid_param):\n",
    "\n",
    "    print(model[1])\n",
    "    print(param)\n",
    "    \n",
    "    start = time.perf_counter()        \n",
    "    best_search = GridSearchCV(estimator=model[1], param_grid=param, \n",
    "                               cv=pds_GridSearch, scoring='accuracy', \n",
    "                               verbose=0, return_train_score=True)\n",
    "    \n",
    "    best_search.fit(X_GS, y_GS)\n",
    "    \n",
    "    run = time.perf_counter() - start\n",
    "\n",
    "    best_param = best_search.best_params_\n",
    "    print('\\n######')\n",
    "    print('The best parameter for {} is {} with a runtime of {:.2f} minutes.'.format(model[1].__class__.__name__, \n",
    "                                                                                     best_param, run/60))\n",
    "    model[1].set_params(**best_param) \n",
    "\n",
    "    print('######\\n')\n",
    "\n",
    "run_total = time.perf_counter() - start_total\n",
    "print('Total optimization time was {:.2f} minutes.'.format(run_total/60))\n",
    "\n",
    "print('-'*10)"
   ]
  },
  {
   "cell_type": "code",
   "execution_count": 52,
   "metadata": {},
   "outputs": [
    {
     "data": {
      "application/vnd.jupyter.widget-view+json": {
       "model_id": "e35c0d1fb2b14226a5b6180f11d67b64",
       "version_major": 2,
       "version_minor": 0
      },
      "text/plain": [
       "HBox(children=(FloatProgress(value=0.0, max=4.0), HTML(value='')))"
      ]
     },
     "metadata": {},
     "output_type": "display_data"
    },
    {
     "name": "stdout",
     "output_type": "stream",
     "text": [
      "Processing LGBMClassifier...\n",
      "Processing RandomForestClassifier...\n",
      "Processing GradientBoostingClassifier...\n",
      "Processing XGBClassifier...\n",
      "\n"
     ]
    }
   ],
   "source": [
    "from tqdm import tqdm_notebook as tqdm\n",
    "\n",
    "model_results = []\n",
    "for m in tqdm(models):\n",
    "    result = {}\n",
    "    print('Processing {}...'.format(type(m[1]).__name__))\n",
    "\n",
    "    m_cv = cross_validate(m[1], X_GS, y_GS, cv=pds_GridSearch, return_train_score=True)\n",
    "    \n",
    "    result['Model'] = type(m[1]).__name__\n",
    "    result['TrainScore'] = m_cv['train_score'].mean()\n",
    "    result['TestScore'] = m_cv['test_score'].mean()\n",
    "    result['Test3Std'] = m_cv['test_score'].std()*3\n",
    "    \n",
    "    model_results.append(result)"
   ]
  },
  {
   "cell_type": "code",
   "execution_count": 53,
   "metadata": {},
   "outputs": [
    {
     "name": "stdout",
     "output_type": "stream",
     "text": [
      "Processing VotingClassifer...\n"
     ]
    }
   ],
   "source": [
    "## Including Voting Classifier in the results    \n",
    "## Hard Vote or majority rules w/Tuned Hyperparameters\n",
    "\n",
    "print('Processing VotingClassifer...')\n",
    "result = {}    \n",
    "vc = VotingClassifier(estimators=models, voting='soft')\n",
    "vc_cv = cross_validate(vc, X_GS, y_GS, cv=pds_GridSearch, return_train_score=True)\n",
    "\n",
    "result['Model'] = type(vc).__name__\n",
    "result['TrainScore'] = vc_cv['train_score'].mean()\n",
    "result['TestScore'] = vc_cv['test_score'].mean()\n",
    "result['Test3Std'] = vc_cv['test_score'].std()\n",
    "\n",
    "model_results.append(result)"
   ]
  },
  {
   "cell_type": "code",
   "execution_count": 54,
   "metadata": {},
   "outputs": [
    {
     "data": {
      "text/html": [
       "<div>\n",
       "<style scoped>\n",
       "    .dataframe tbody tr th:only-of-type {\n",
       "        vertical-align: middle;\n",
       "    }\n",
       "\n",
       "    .dataframe tbody tr th {\n",
       "        vertical-align: top;\n",
       "    }\n",
       "\n",
       "    .dataframe thead th {\n",
       "        text-align: right;\n",
       "    }\n",
       "</style>\n",
       "<table border=\"1\" class=\"dataframe\">\n",
       "  <thead>\n",
       "    <tr style=\"text-align: right;\">\n",
       "      <th></th>\n",
       "      <th>TrainScore</th>\n",
       "      <th>TestScore</th>\n",
       "      <th>Test3Std</th>\n",
       "    </tr>\n",
       "    <tr>\n",
       "      <th>Model</th>\n",
       "      <th></th>\n",
       "      <th></th>\n",
       "      <th></th>\n",
       "    </tr>\n",
       "  </thead>\n",
       "  <tbody>\n",
       "    <tr>\n",
       "      <th>GradientBoostingClassifier</th>\n",
       "      <td>0.961205</td>\n",
       "      <td>0.420490</td>\n",
       "      <td>0.0</td>\n",
       "    </tr>\n",
       "    <tr>\n",
       "      <th>RandomForestClassifier</th>\n",
       "      <td>0.907810</td>\n",
       "      <td>0.415462</td>\n",
       "      <td>0.0</td>\n",
       "    </tr>\n",
       "    <tr>\n",
       "      <th>VotingClassifier</th>\n",
       "      <td>0.917271</td>\n",
       "      <td>0.413576</td>\n",
       "      <td>0.0</td>\n",
       "    </tr>\n",
       "    <tr>\n",
       "      <th>XGBClassifier</th>\n",
       "      <td>0.963791</td>\n",
       "      <td>0.408548</td>\n",
       "      <td>0.0</td>\n",
       "    </tr>\n",
       "    <tr>\n",
       "      <th>LGBMClassifier</th>\n",
       "      <td>0.462481</td>\n",
       "      <td>0.345695</td>\n",
       "      <td>0.0</td>\n",
       "    </tr>\n",
       "  </tbody>\n",
       "</table>\n",
       "</div>"
      ],
      "text/plain": [
       "                            TrainScore  TestScore  Test3Std\n",
       "Model                                                      \n",
       "GradientBoostingClassifier    0.961205   0.420490       0.0\n",
       "RandomForestClassifier        0.907810   0.415462       0.0\n",
       "VotingClassifier              0.917271   0.413576       0.0\n",
       "XGBClassifier                 0.963791   0.408548       0.0\n",
       "LGBMClassifier                0.462481   0.345695       0.0"
      ]
     },
     "execution_count": 54,
     "metadata": {},
     "output_type": "execute_result"
    }
   ],
   "source": [
    "model_results = pd.DataFrame(model_results).set_index('Model').sort_values('TestScore', ascending=False) \n",
    "model_results"
   ]
  },
  {
   "cell_type": "code",
   "execution_count": 55,
   "metadata": {},
   "outputs": [],
   "source": [
    "# pd.DataFrame(model_results)"
   ]
  },
  {
   "cell_type": "markdown",
   "metadata": {},
   "source": [
    "Testing Score is only around 0.40 and those models with Training Score of around 0.90 is too high and could be overfitting."
   ]
  },
  {
   "cell_type": "markdown",
   "metadata": {},
   "source": [
    "Selecting Voting Classifier model for model prediction and analysis"
   ]
  },
  {
   "cell_type": "code",
   "execution_count": 193,
   "metadata": {},
   "outputs": [
    {
     "data": {
      "text/plain": [
       "VotingClassifier(estimators=[('lgbm',\n",
       "                              LGBMClassifier(boosting_type='gbdt',\n",
       "                                             class_weight=None,\n",
       "                                             colsample_bytree=0.6,\n",
       "                                             importance_type='split',\n",
       "                                             learning_rate=0.001, max_depth=10,\n",
       "                                             min_child_samples=20,\n",
       "                                             min_child_weight=0.001,\n",
       "                                             min_split_gain=0.0,\n",
       "                                             n_estimators=200, n_jobs=-1,\n",
       "                                             num_leaves=15, objective=None,\n",
       "                                             random_state=3333, reg_alpha=0.0,\n",
       "                                             reg_lambda=0.0, silent=True,\n",
       "                                             sub...\n",
       "                                            min_child_weight=None, missing=nan,\n",
       "                                            monotone_constraints=None,\n",
       "                                            n_estimators=200, n_jobs=None,\n",
       "                                            num_parallel_tree=None,\n",
       "                                            objective='binary:logistic',\n",
       "                                            random_state=None, reg_alpha=None,\n",
       "                                            reg_lambda=None,\n",
       "                                            scale_pos_weight=None, seed=3333,\n",
       "                                            subsample=0.8, tree_method=None,\n",
       "                                            validate_parameters=False,\n",
       "                                            verbosity=None))],\n",
       "                 flatten_transform=True, n_jobs=None, voting='soft',\n",
       "                 weights=None)"
      ]
     },
     "execution_count": 193,
     "metadata": {},
     "output_type": "execute_result"
    }
   ],
   "source": [
    "# best = models[1][1]\n",
    "best = vc\n",
    "best.fit(X_train, y_train)"
   ]
  },
  {
   "cell_type": "code",
   "execution_count": 194,
   "metadata": {},
   "outputs": [],
   "source": [
    "predicted = best.predict(X_valid)"
   ]
  },
  {
   "cell_type": "code",
   "execution_count": 195,
   "metadata": {},
   "outputs": [],
   "source": [
    "y_valid_org['predicted_range'] = predicted"
   ]
  },
  {
   "cell_type": "code",
   "execution_count": 197,
   "metadata": {},
   "outputs": [],
   "source": [
    "if type(best).__name__ == 'LGBMClassifier':\n",
    "    plot_importance(best, max_num_features=15)\n",
    "    plt.show()\n",
    "elif type(best).__name__ == 'VotingClassifier':\n",
    "    pass\n",
    "else:\n",
    "    feat_importances = pd.Series(best.feature_importances_, index=X_train.columns)\n",
    "    feat_importances.nlargest(15).plot(kind='barh').invert_yaxis()\n",
    "    plt.show()"
   ]
  },
  {
   "cell_type": "markdown",
   "metadata": {},
   "source": [
    "### Model Performance\n",
    "\n",
    "Confusion Matrix"
   ]
  },
  {
   "cell_type": "code",
   "execution_count": 199,
   "metadata": {},
   "outputs": [],
   "source": [
    "import itertools\n",
    "\n",
    "def plot_confusion_matrix(cm, classes,\n",
    "                          normalize=False,\n",
    "                          title='Confusion matrix',\n",
    "                          cmap=plt.cm.Blues):\n",
    "    \"\"\"\n",
    "    This function prints and plots the confusion matrix.\n",
    "    Normalization can be applied by setting `normalize=True`.\n",
    "    \"\"\"\n",
    "    plt.imshow(cm, interpolation='nearest', cmap=cmap)\n",
    "    plt.title(title)\n",
    "    plt.colorbar()\n",
    "    tick_marks = np.arange(len(classes))\n",
    "    plt.xticks(tick_marks, classes, rotation=45)\n",
    "    plt.yticks(tick_marks, classes)\n",
    "\n",
    "    if normalize:\n",
    "        cm = cm.astype('float') / cm.sum(axis=1)[:, np.newaxis]\n",
    "#         print(\"Normalized confusion matrix\")\n",
    "#     else:\n",
    "#         print('Confusion matrix, without normalization')\n",
    "\n",
    "#     print(cm)\n",
    "\n",
    "    thresh = cm.max() / 2.\n",
    "    for i, j in itertools.product(range(cm.shape[0]), range(cm.shape[1])):\n",
    "        plt.text(j, i, cm[i, j],\n",
    "                 horizontalalignment=\"center\",\n",
    "                 color=\"white\" if cm[i, j] > thresh else \"black\")\n",
    "\n",
    "    plt.tight_layout()\n",
    "    plt.ylabel('True label')\n",
    "    plt.xlabel('Predicted label')"
   ]
  },
  {
   "cell_type": "code",
   "execution_count": 200,
   "metadata": {},
   "outputs": [
    {
     "data": {
      "image/png": "[encoded data removed]",
      "text/plain": [
       "<Figure size 900x360 with 2 Axes>"
      ]
     },
     "metadata": {},
     "output_type": "display_data"
    }
   ],
   "source": [
    "#importing confusion matrix\n",
    "\n",
    "from sklearn.metrics import confusion_matrix\n",
    "confusion = confusion_matrix(y_valid_org['return_range'], y_valid_org['predicted_range'])\n",
    "\n",
    "plot_confusion_matrix(confusion, ['A','B','C','D','E'], False)\n",
    "plt.show()"
   ]
  },
  {
   "cell_type": "markdown",
   "metadata": {},
   "source": [
    "Classification Report"
   ]
  },
  {
   "cell_type": "code",
   "execution_count": 201,
   "metadata": {},
   "outputs": [
    {
     "name": "stdout",
     "output_type": "stream",
     "text": [
      "              precision    recall  f1-score   support\n",
      "\n",
      "           A       0.20      0.31      0.24        88\n",
      "           B       0.16      0.17      0.17       173\n",
      "           C       0.51      0.50      0.51       608\n",
      "           D       0.49      0.40      0.44       653\n",
      "           E       0.25      0.55      0.35        69\n",
      "\n",
      "    accuracy                           0.41      1591\n",
      "   macro avg       0.32      0.38      0.34      1591\n",
      "weighted avg       0.44      0.41      0.42      1591\n",
      "\n"
     ]
    }
   ],
   "source": [
    "from sklearn.metrics import classification_report\n",
    "\n",
    "print(classification_report(y_valid_org['return_range'], y_valid_org['predicted_range'], \n",
    "                            target_names=['A', 'B', 'C', 'D', 'E']))"
   ]
  },
  {
   "cell_type": "markdown",
   "metadata": {},
   "source": [
    "---\n",
    "## Model Prediction"
   ]
  },
  {
   "cell_type": "markdown",
   "metadata": {},
   "source": [
    "### Stock Selection by Trained Model\n",
    "- Using the model trained on past 3 years data: 2015-2017, predict the stocks that may outperform on each week betweeen 2018 to 2020 using factors observed on previous week respectively.\n",
    "- The top 10 securities in category A based on predicted probability will be selected for the week for investment.\n",
    "- These securities will be sold end of the week and the new batch of securites will be selected.\n",
    "- Transaction cost is ignored in this analysis.\n",
    "- Potentially, the model should be retrained based on the recent data available and using the updated model to perform stock selection.  However, due to complexity in retraining the models, this is not done in this analysis."
   ]
  },
  {
   "cell_type": "markdown",
   "metadata": {},
   "source": [
    "### Helper Function\n",
    "- **selectStockByWeek** : Function to perform stock selection at the start of the week.  Stock selection is done using the best model as defined above after training.  ***N*** number of stocks to long if they are expected to be in category A and ***N*** number of stocks to short if they are in category E.  Stocks are ranked by their probability in respective categories.  Highest probabilities one at the top.\n",
    "- **getSecurityName** : Given symbol, retrieve the security name\n",
    "- **getWeeklyReturn** : Given a date and symbol, get the weekly return for the security at that week\n",
    "- **plotTimeSeries** : Plot the given time series\n",
    "- **calcEFWeights** : Calculate the most efficient security weight based on efficient frontier of the selected securities at a given date\n"
   ]
  },
  {
   "cell_type": "code",
   "execution_count": 202,
   "metadata": {},
   "outputs": [],
   "source": [
    "from datetime import date, timedelta, datetime\n",
    "from dateutil.relativedelta import relativedelta\n",
    "\n",
    "def selectStockByWeek(predictweek):\n",
    "\n",
    "    dataweek = datetime.strptime(predictweek, '%Y-%m-%d') + relativedelta(weeks=-1)\n",
    "    dataweek = dataweek.strftime(\"%Y-%m-%d\")\n",
    "\n",
    "    test = getDataByDate(dataweek).reset_index(drop=True)\n",
    "    \n",
    "    test.dropna(axis=0, inplace=True)\n",
    "\n",
    "    to_drop = ['code', 'next_pct_chg_return']\n",
    "    features = [column for column in test.columns if column not in to_drop]\n",
    "\n",
    "    X = test[features]\n",
    "\n",
    "    X_std = scaler.transform(X)\n",
    "    X_std = pd.DataFrame(X_std, columns=X.columns)\n",
    "\n",
    "    predicted_category = best.predict(X_std)\n",
    "    predicted_probability = best.predict_proba(X_std)\n",
    "    predicted_probability = np.max(predicted_probability, axis=1)\n",
    "\n",
    "    results = pd.DataFrame(test.code)\n",
    "    results['predictweek'] = predictweek\n",
    "    results['predicted_range'] = predicted_category\n",
    "    results['predicted_prob'] = predicted_probability\n",
    "#     return results[results.predicted_range == 0].sort_values('predicted_prob', \n",
    "#                                                              ascending=False).head(10)\n",
    "\n",
    "    CONFIDENCE = 0.25\n",
    "    NUM_OF_STOCKS = 5\n",
    "    CATEGORY_TO_LONG = 0\n",
    "    CATEGORY_TO_SHORT = 4\n",
    "    \n",
    "    to_long = results[(results.predicted_range == CATEGORY_TO_LONG) & \n",
    "                      (results.predicted_prob > CONFIDENCE)].sort_values('predicted_prob', \n",
    "                                                             ascending=False).head(NUM_OF_STOCKS)\n",
    "    to_short = results[(results.predicted_range == CATEGORY_TO_SHORT) & \n",
    "                       (results.predicted_prob > CONFIDENCE)].sort_values('predicted_prob', \n",
    "                                                             ascending=False).head(NUM_OF_STOCKS)\n",
    "    return to_long, to_short"
   ]
  },
  {
   "cell_type": "code",
   "execution_count": 203,
   "metadata": {},
   "outputs": [],
   "source": [
    "def getSecurityName(symbol):\n",
    "    security = security_list.loc[symbol]\n",
    "    return security.display_name, security.stock_name\n",
    "\n",
    "def getWeeklyReturn(date, symbol):\n",
    "    return security_returns.loc[pd.IndexSlice[date, :], symbol].values[0]"
   ]
  },
  {
   "cell_type": "code",
   "execution_count": 204,
   "metadata": {},
   "outputs": [],
   "source": [
    "## CALCULATE BALANCED PORTFOLIO RETURN\n",
    "\n",
    "# def calcPortfolioReturn(stock_returns):\n",
    "    \n",
    "#     num_stock = len(stock_returns)\n",
    "#     ## Assume equally weighted portfolio\n",
    "#     weights = np.ones(num_stock) / num_stock\n",
    "    \n",
    "#     return sum(weights * stock_returns)"
   ]
  },
  {
   "cell_type": "code",
   "execution_count": 205,
   "metadata": {},
   "outputs": [],
   "source": [
    "from matplotlib import patheffects\n",
    "\n",
    "def plotTimeSeries(series, title='', xlabel='', ylabel='', tickermap=''): \n",
    "    FIG_SIZE = (20,8)\n",
    "    ax = series.plot(figsize=FIG_SIZE, fontsize=12, linewidth=3, linestyle='-')\n",
    "    ax.set_xlabel(xlabel, fontsize = 16)\n",
    "    ax.set_ylabel(ylabel, fontsize = 16)\n",
    "    \n",
    "    title_text_obj = ax.set_title(title, fontsize = 18, verticalalignment = 'bottom')\n",
    "    title_text_obj.set_path_effects([patheffects.withSimplePatchShadow()])\n",
    "    # pe = patheffects.withSimplePatchShadow(offset = (1, -1), shadow_rgbFace = (1,0,0), calpha = 0.8)\n",
    "\n",
    "    names = series.columns\n",
    "    if tickermap:\n",
    "        names = names.map(tickermap)\n",
    "        \n",
    "    ax.legend(names, fontsize = 16)\n",
    "    plt.show()"
   ]
  },
  {
   "cell_type": "code",
   "execution_count": 206,
   "metadata": {},
   "outputs": [],
   "source": [
    "from pypfopt import risk_models\n",
    "from pypfopt import expected_returns\n",
    "from pypfopt.efficient_frontier import EfficientFrontier\n",
    "\n",
    "def calcEFWeights(predictweek, code_list, min_vol=True):\n",
    "    \n",
    "    price_end_date = datetime.strptime(predictweek, '%Y-%m-%d') + relativedelta(days=-1)\n",
    "    price_start_date = price_end_date + relativedelta(years=-1)\n",
    "    \n",
    "    historical_prices = prices.loc[price_start_date:price_end_date, code_list]\n",
    "\n",
    "    # Calculate expected returns\n",
    "    expected_returns_daily = expected_returns.mean_historical_return(historical_prices)\n",
    "\n",
    "    # Calculate the covariance matrix\n",
    "    covariance_matrix = risk_models.sample_cov(historical_prices)\n",
    "\n",
    "    # Select a chosen optimal portfolio\n",
    "    if min_vol:\n",
    "        # Obtain the efficient frontier\n",
    "        ef = EfficientFrontier(expected_returns_daily, covariance_matrix)\n",
    "        ef.min_volatility()\n",
    "    else:\n",
    "        try:\n",
    "            # Obtain the efficient frontier\n",
    "            ef = EfficientFrontier(expected_returns_daily, covariance_matrix)\n",
    "            ef.max_sharpe(risk_free_rate=0.00)\n",
    "        except:\n",
    "            print(predictweek)\n",
    "            ef = EfficientFrontier(expected_returns_daily, covariance_matrix)\n",
    "            ef.min_volatility()\n",
    "        \n",
    "    clean_weights = pd.DataFrame([ef.clean_weights()]).T\n",
    "    clean_weights.columns = ['weights']\n",
    "      \n",
    "    # Obtain the performance numbers\n",
    "    # ef.portfolio_performance(verbose=True, risk_free_rate = 0.00)\n",
    "    return clean_weights.weights"
   ]
  },
  {
   "cell_type": "markdown",
   "metadata": {},
   "source": [
    "Creating the weeks for stock return predictions"
   ]
  },
  {
   "cell_type": "code",
   "execution_count": 207,
   "metadata": {},
   "outputs": [],
   "source": [
    "predict_startdate = '2018-01-01'\n",
    "predict_enddate = '2020-07-01'\n",
    "predict_weeks = pd.date_range(predict_startdate, predict_enddate, freq=sample_freq). \\\n",
    "                        strftime(\"%Y-%m-%d\").tolist()"
   ]
  },
  {
   "cell_type": "code",
   "execution_count": 208,
   "metadata": {},
   "outputs": [
    {
     "name": "stdout",
     "output_type": "stream",
     "text": [
      "Total number of weeks to predict: 130\n"
     ]
    }
   ],
   "source": [
    "print('Total number of weeks to predict: {}'.format(len(predict_weeks)))"
   ]
  },
  {
   "cell_type": "markdown",
   "metadata": {},
   "source": [
    "Preparing the table of stocks to long and short in each week"
   ]
  },
  {
   "cell_type": "code",
   "execution_count": 209,
   "metadata": {},
   "outputs": [],
   "source": [
    "predicted_tolong = []\n",
    "predicted_toshort = []\n",
    "\n",
    "for month in predict_weeks:\n",
    "    try:\n",
    "        to_long, to_short = selectStockByWeek(month)\n",
    "        predicted_tolong.append(to_long)   \n",
    "        predicted_toshort.append(to_short) \n",
    "    except:\n",
    "        pass\n",
    "        "
   ]
  },
  {
   "cell_type": "markdown",
   "metadata": {},
   "source": [
    "Find the corresponging actual weekly returns of all the selected securities.  Multiply -1 to the returns of shorted securities."
   ]
  },
  {
   "cell_type": "code",
   "execution_count": 210,
   "metadata": {},
   "outputs": [],
   "source": [
    "predicted_tolong = pd.concat(predicted_tolong).reset_index(drop=True)\n",
    "predicted_toshort = pd.concat(predicted_toshort).reset_index(drop=True)\n",
    "\n",
    "if len(predicted_tolong) > 0:\n",
    "    predicted_tolong['type'] = 'Long'\n",
    "    predicted_tolong['weekly_returns'] = predicted_tolong.apply(\n",
    "        lambda x: getWeeklyReturn(x['predictweek'], x['code']), axis=1)\n",
    "\n",
    "if len(predicted_toshort) > 0:\n",
    "    predicted_toshort['type'] = 'Short'\n",
    "    predicted_toshort['weekly_returns'] = predicted_toshort.apply(\n",
    "        lambda x: -1 * getWeeklyReturn(x['predictweek'], x['code']), axis=1)\n",
    "\n",
    "predicted_results = pd.concat([predicted_tolong, predicted_toshort])\n",
    "predicted_results['display_name'] = predicted_results['code'].apply(lambda x: getSecurityName(x)[0])\n",
    "predicted_results['name'] = predicted_results['code'].apply(lambda x: getSecurityName(x)[1])"
   ]
  },
  {
   "cell_type": "code",
   "execution_count": 211,
   "metadata": {},
   "outputs": [],
   "source": [
    "predicted_results = predicted_results.sort_values(['predictweek','type']).reset_index(drop=True)"
   ]
  },
  {
   "cell_type": "markdown",
   "metadata": {},
   "source": [
    "Perform asset allocation with weights of securities in each week on the efficient frontier with minimum volatility.  Then calculate the total portfolio return for the week of all long and short positions and the actual weekly returns."
   ]
  },
  {
   "cell_type": "code",
   "execution_count": 212,
   "metadata": {},
   "outputs": [],
   "source": [
    "from collections import OrderedDict\n",
    "\n",
    "MIN_VOL = True\n",
    "\n",
    "pw_weeks = predicted_results.predictweek.unique().tolist()\n",
    "portfolio_weekly_returns = []\n",
    "predicted_results_with_wgts = []\n",
    "\n",
    "for pw_week in pw_weeks:\n",
    "\n",
    "    weekly_returns = OrderedDict({})\n",
    "    list_to_long = predicted_results[(predicted_results.predictweek == pw_week) & \n",
    "                                     (predicted_results.type == 'Long')]\n",
    "    list_to_short = predicted_results[(predicted_results.predictweek == pw_week) & \n",
    "                                      (predicted_results.type == 'Short')]\n",
    "    \n",
    "    long_returns = short_returns = 0 \n",
    "    \n",
    "    if len(list_to_long) > 1:\n",
    "        long_weights = calcEFWeights(pw_week, list_to_long.code, MIN_VOL)\n",
    "        long_returns = sum(list_to_long.weekly_returns * long_weights.values)\n",
    "        list_to_long['weights'] = long_weights.values\n",
    "    elif len(list_to_long) == 1:\n",
    "        long_returns = sum(list_to_long.weekly_returns)\n",
    "        list_to_long['weights'] = 1\n",
    "        \n",
    "    if len(list_to_short) > 1:\n",
    "        short_weights = calcEFWeights(pw_week, list_to_short.code, MIN_VOL)\n",
    "        short_returns = sum(list_to_short.weekly_returns * short_weights.values)\n",
    "        list_to_short['weights'] = short_weights.values\n",
    "    elif len(list_to_short) == 1:\n",
    "        short_returns = sum(list_to_short.weekly_returns)\n",
    "        list_to_short['weights'] = 1\n",
    "        \n",
    "    if (len(list_to_long) > 0) & (len(list_to_short) > 0):\n",
    "        list_to_long['weights'] = list_to_long['weights'] / 2\n",
    "        list_to_short['weights'] = list_to_short['weights'] / 2\n",
    "\n",
    "    predicted_results_with_wgts.append(pd.concat([list_to_long, list_to_short]))\n",
    "        \n",
    "    aggregate_returns = (long_returns + short_returns)/2\n",
    "    \n",
    "    weekly_returns['predictweek'] = pw_week\n",
    "    weekly_returns['weekly_returns'] = aggregate_returns\n",
    "    \n",
    "    portfolio_weekly_returns.append(weekly_returns)\n",
    "    \n",
    "portfolio_weekly_returns = pd.DataFrame(portfolio_weekly_returns)\n",
    "portfolio_weekly_returns.set_index('predictweek', inplace=True)"
   ]
  },
  {
   "cell_type": "markdown",
   "metadata": {},
   "source": [
    "Weekly transaction logs for checking purpose"
   ]
  },
  {
   "cell_type": "code",
   "execution_count": 213,
   "metadata": {},
   "outputs": [],
   "source": [
    "weekly_transactions_logs = pd.concat(predicted_results_with_wgts)\n",
    "weekly_transactions_logs.sort_index(inplace=True)\n"
   ]
  },
  {
   "cell_type": "code",
   "execution_count": 214,
   "metadata": {},
   "outputs": [
    {
     "data": {
      "text/html": [
       "<div>\n",
       "<style scoped>\n",
       "    .dataframe tbody tr th:only-of-type {\n",
       "        vertical-align: middle;\n",
       "    }\n",
       "\n",
       "    .dataframe tbody tr th {\n",
       "        vertical-align: top;\n",
       "    }\n",
       "\n",
       "    .dataframe thead th {\n",
       "        text-align: right;\n",
       "    }\n",
       "</style>\n",
       "<table border=\"1\" class=\"dataframe\">\n",
       "  <thead>\n",
       "    <tr style=\"text-align: right;\">\n",
       "      <th></th>\n",
       "      <th>code</th>\n",
       "      <th>predictweek</th>\n",
       "      <th>predicted_range</th>\n",
       "      <th>predicted_prob</th>\n",
       "      <th>type</th>\n",
       "      <th>weekly_returns</th>\n",
       "      <th>display_name</th>\n",
       "      <th>name</th>\n",
       "      <th>weights</th>\n",
       "    </tr>\n",
       "  </thead>\n",
       "  <tbody>\n",
       "    <tr>\n",
       "      <th>0</th>\n",
       "      <td>601100.XSHG</td>\n",
       "      <td>2018-01-14</td>\n",
       "      <td>0</td>\n",
       "      <td>0.259802</td>\n",
       "      <td>Long</td>\n",
       "      <td>-0.000655</td>\n",
       "      <td>恒立液压</td>\n",
       "      <td>HLYY</td>\n",
       "      <td>1.000000</td>\n",
       "    </tr>\n",
       "    <tr>\n",
       "      <th>1</th>\n",
       "      <td>002714.XSHE</td>\n",
       "      <td>2018-01-21</td>\n",
       "      <td>0</td>\n",
       "      <td>0.258352</td>\n",
       "      <td>Long</td>\n",
       "      <td>0.016437</td>\n",
       "      <td>牧原股份</td>\n",
       "      <td>MYGF</td>\n",
       "      <td>1.000000</td>\n",
       "    </tr>\n",
       "    <tr>\n",
       "      <th>2</th>\n",
       "      <td>002714.XSHE</td>\n",
       "      <td>2018-02-04</td>\n",
       "      <td>0</td>\n",
       "      <td>0.255279</td>\n",
       "      <td>Long</td>\n",
       "      <td>-0.096939</td>\n",
       "      <td>牧原股份</td>\n",
       "      <td>MYGF</td>\n",
       "      <td>1.000000</td>\n",
       "    </tr>\n",
       "    <tr>\n",
       "      <th>3</th>\n",
       "      <td>300122.XSHE</td>\n",
       "      <td>2018-02-11</td>\n",
       "      <td>4</td>\n",
       "      <td>0.268469</td>\n",
       "      <td>Short</td>\n",
       "      <td>0.109214</td>\n",
       "      <td>智飞生物</td>\n",
       "      <td>ZFSW</td>\n",
       "      <td>0.406240</td>\n",
       "    </tr>\n",
       "    <tr>\n",
       "      <th>4</th>\n",
       "      <td>600516.XSHG</td>\n",
       "      <td>2018-02-11</td>\n",
       "      <td>4</td>\n",
       "      <td>0.264254</td>\n",
       "      <td>Short</td>\n",
       "      <td>0.016488</td>\n",
       "      <td>方大炭素</td>\n",
       "      <td>FDTS</td>\n",
       "      <td>0.244600</td>\n",
       "    </tr>\n",
       "    <tr>\n",
       "      <th>5</th>\n",
       "      <td>002146.XSHE</td>\n",
       "      <td>2018-02-11</td>\n",
       "      <td>4</td>\n",
       "      <td>0.263542</td>\n",
       "      <td>Short</td>\n",
       "      <td>0.223260</td>\n",
       "      <td>荣盛发展</td>\n",
       "      <td>RSFZ</td>\n",
       "      <td>0.349170</td>\n",
       "    </tr>\n",
       "    <tr>\n",
       "      <th>6</th>\n",
       "      <td>600176.XSHG</td>\n",
       "      <td>2018-02-18</td>\n",
       "      <td>4</td>\n",
       "      <td>0.376356</td>\n",
       "      <td>Short</td>\n",
       "      <td>-0.084746</td>\n",
       "      <td>中国巨石</td>\n",
       "      <td>ZGJS</td>\n",
       "      <td>0.223540</td>\n",
       "    </tr>\n",
       "    <tr>\n",
       "      <th>7</th>\n",
       "      <td>000671.XSHE</td>\n",
       "      <td>2018-02-18</td>\n",
       "      <td>4</td>\n",
       "      <td>0.374702</td>\n",
       "      <td>Short</td>\n",
       "      <td>-0.111576</td>\n",
       "      <td>阳光城</td>\n",
       "      <td>YGC</td>\n",
       "      <td>0.183920</td>\n",
       "    </tr>\n",
       "    <tr>\n",
       "      <th>8</th>\n",
       "      <td>603993.XSHG</td>\n",
       "      <td>2018-02-18</td>\n",
       "      <td>4</td>\n",
       "      <td>0.357270</td>\n",
       "      <td>Short</td>\n",
       "      <td>-0.086587</td>\n",
       "      <td>洛阳钼业</td>\n",
       "      <td>LYMY</td>\n",
       "      <td>0.042740</td>\n",
       "    </tr>\n",
       "    <tr>\n",
       "      <th>9</th>\n",
       "      <td>002146.XSHE</td>\n",
       "      <td>2018-02-18</td>\n",
       "      <td>4</td>\n",
       "      <td>0.356177</td>\n",
       "      <td>Short</td>\n",
       "      <td>-0.049180</td>\n",
       "      <td>荣盛发展</td>\n",
       "      <td>RSFZ</td>\n",
       "      <td>0.070950</td>\n",
       "    </tr>\n",
       "    <tr>\n",
       "      <th>10</th>\n",
       "      <td>601899.XSHG</td>\n",
       "      <td>2018-02-18</td>\n",
       "      <td>4</td>\n",
       "      <td>0.308304</td>\n",
       "      <td>Short</td>\n",
       "      <td>-0.049140</td>\n",
       "      <td>紫金矿业</td>\n",
       "      <td>ZJKY</td>\n",
       "      <td>0.478840</td>\n",
       "    </tr>\n",
       "    <tr>\n",
       "      <th>11</th>\n",
       "      <td>300413.XSHE</td>\n",
       "      <td>2018-03-11</td>\n",
       "      <td>0</td>\n",
       "      <td>0.270634</td>\n",
       "      <td>Long</td>\n",
       "      <td>0.090110</td>\n",
       "      <td>芒果超媒</td>\n",
       "      <td>MGCM</td>\n",
       "      <td>1.000000</td>\n",
       "    </tr>\n",
       "    <tr>\n",
       "      <th>12</th>\n",
       "      <td>002129.XSHE</td>\n",
       "      <td>2018-04-01</td>\n",
       "      <td>4</td>\n",
       "      <td>0.262919</td>\n",
       "      <td>Short</td>\n",
       "      <td>-0.197905</td>\n",
       "      <td>中环股份</td>\n",
       "      <td>ZHGF</td>\n",
       "      <td>1.000000</td>\n",
       "    </tr>\n",
       "    <tr>\n",
       "      <th>13</th>\n",
       "      <td>600271.XSHG</td>\n",
       "      <td>2018-04-08</td>\n",
       "      <td>0</td>\n",
       "      <td>0.285891</td>\n",
       "      <td>Long</td>\n",
       "      <td>0.039867</td>\n",
       "      <td>航天信息</td>\n",
       "      <td>HTXX</td>\n",
       "      <td>1.000000</td>\n",
       "    </tr>\n",
       "    <tr>\n",
       "      <th>14</th>\n",
       "      <td>300347.XSHE</td>\n",
       "      <td>2018-04-15</td>\n",
       "      <td>0</td>\n",
       "      <td>0.253590</td>\n",
       "      <td>Long</td>\n",
       "      <td>0.003576</td>\n",
       "      <td>泰格医药</td>\n",
       "      <td>TGYY</td>\n",
       "      <td>0.500000</td>\n",
       "    </tr>\n",
       "    <tr>\n",
       "      <th>15</th>\n",
       "      <td>002129.XSHE</td>\n",
       "      <td>2018-04-15</td>\n",
       "      <td>4</td>\n",
       "      <td>0.252172</td>\n",
       "      <td>Short</td>\n",
       "      <td>0.026484</td>\n",
       "      <td>中环股份</td>\n",
       "      <td>ZHGF</td>\n",
       "      <td>0.500000</td>\n",
       "    </tr>\n",
       "    <tr>\n",
       "      <th>16</th>\n",
       "      <td>300347.XSHE</td>\n",
       "      <td>2018-04-29</td>\n",
       "      <td>0</td>\n",
       "      <td>0.264723</td>\n",
       "      <td>Long</td>\n",
       "      <td>0.091534</td>\n",
       "      <td>泰格医药</td>\n",
       "      <td>TGYY</td>\n",
       "      <td>0.742770</td>\n",
       "    </tr>\n",
       "    <tr>\n",
       "      <th>17</th>\n",
       "      <td>002371.XSHE</td>\n",
       "      <td>2018-04-29</td>\n",
       "      <td>0</td>\n",
       "      <td>0.253528</td>\n",
       "      <td>Long</td>\n",
       "      <td>-0.051993</td>\n",
       "      <td>北方华创</td>\n",
       "      <td>BFHC</td>\n",
       "      <td>0.257230</td>\n",
       "    </tr>\n",
       "    <tr>\n",
       "      <th>18</th>\n",
       "      <td>600332.XSHG</td>\n",
       "      <td>2018-05-06</td>\n",
       "      <td>0</td>\n",
       "      <td>0.252932</td>\n",
       "      <td>Long</td>\n",
       "      <td>0.085075</td>\n",
       "      <td>白云山</td>\n",
       "      <td>BYS</td>\n",
       "      <td>0.500000</td>\n",
       "    </tr>\n",
       "    <tr>\n",
       "      <th>19</th>\n",
       "      <td>002456.XSHE</td>\n",
       "      <td>2018-05-06</td>\n",
       "      <td>4</td>\n",
       "      <td>0.251204</td>\n",
       "      <td>Short</td>\n",
       "      <td>-0.070780</td>\n",
       "      <td>欧菲光</td>\n",
       "      <td>OFG</td>\n",
       "      <td>0.500000</td>\n",
       "    </tr>\n",
       "    <tr>\n",
       "      <th>20</th>\n",
       "      <td>603658.XSHG</td>\n",
       "      <td>2018-05-27</td>\n",
       "      <td>0</td>\n",
       "      <td>0.256238</td>\n",
       "      <td>Long</td>\n",
       "      <td>0.126303</td>\n",
       "      <td>安图生物</td>\n",
       "      <td>ATSW</td>\n",
       "      <td>0.500000</td>\n",
       "    </tr>\n",
       "    <tr>\n",
       "      <th>21</th>\n",
       "      <td>600332.XSHG</td>\n",
       "      <td>2018-05-27</td>\n",
       "      <td>4</td>\n",
       "      <td>0.257012</td>\n",
       "      <td>Short</td>\n",
       "      <td>-0.007563</td>\n",
       "      <td>白云山</td>\n",
       "      <td>BYS</td>\n",
       "      <td>0.500000</td>\n",
       "    </tr>\n",
       "    <tr>\n",
       "      <th>22</th>\n",
       "      <td>603658.XSHG</td>\n",
       "      <td>2018-06-10</td>\n",
       "      <td>0</td>\n",
       "      <td>0.251454</td>\n",
       "      <td>Long</td>\n",
       "      <td>0.088972</td>\n",
       "      <td>安图生物</td>\n",
       "      <td>ATSW</td>\n",
       "      <td>0.500000</td>\n",
       "    </tr>\n",
       "    <tr>\n",
       "      <th>23</th>\n",
       "      <td>300122.XSHE</td>\n",
       "      <td>2018-06-10</td>\n",
       "      <td>4</td>\n",
       "      <td>0.336021</td>\n",
       "      <td>Short</td>\n",
       "      <td>-0.126996</td>\n",
       "      <td>智飞生物</td>\n",
       "      <td>ZFSW</td>\n",
       "      <td>0.500000</td>\n",
       "    </tr>\n",
       "    <tr>\n",
       "      <th>24</th>\n",
       "      <td>603658.XSHG</td>\n",
       "      <td>2018-06-17</td>\n",
       "      <td>0</td>\n",
       "      <td>0.252349</td>\n",
       "      <td>Long</td>\n",
       "      <td>-0.041550</td>\n",
       "      <td>安图生物</td>\n",
       "      <td>ATSW</td>\n",
       "      <td>1.000000</td>\n",
       "    </tr>\n",
       "    <tr>\n",
       "      <th>25</th>\n",
       "      <td>300347.XSHE</td>\n",
       "      <td>2018-06-24</td>\n",
       "      <td>0</td>\n",
       "      <td>0.251395</td>\n",
       "      <td>Long</td>\n",
       "      <td>0.081455</td>\n",
       "      <td>泰格医药</td>\n",
       "      <td>TGYY</td>\n",
       "      <td>1.000000</td>\n",
       "    </tr>\n",
       "    <tr>\n",
       "      <th>26</th>\n",
       "      <td>603658.XSHG</td>\n",
       "      <td>2018-07-01</td>\n",
       "      <td>0</td>\n",
       "      <td>0.261304</td>\n",
       "      <td>Long</td>\n",
       "      <td>-0.018420</td>\n",
       "      <td>安图生物</td>\n",
       "      <td>ATSW</td>\n",
       "      <td>0.500000</td>\n",
       "    </tr>\n",
       "    <tr>\n",
       "      <th>27</th>\n",
       "      <td>600004.XSHG</td>\n",
       "      <td>2018-07-01</td>\n",
       "      <td>4</td>\n",
       "      <td>0.299719</td>\n",
       "      <td>Short</td>\n",
       "      <td>0.079422</td>\n",
       "      <td>白云机场</td>\n",
       "      <td>BYJC</td>\n",
       "      <td>0.226625</td>\n",
       "    </tr>\n",
       "    <tr>\n",
       "      <th>28</th>\n",
       "      <td>601231.XSHG</td>\n",
       "      <td>2018-07-01</td>\n",
       "      <td>4</td>\n",
       "      <td>0.272719</td>\n",
       "      <td>Short</td>\n",
       "      <td>-0.063549</td>\n",
       "      <td>环旭电子</td>\n",
       "      <td>HXDZ</td>\n",
       "      <td>0.100305</td>\n",
       "    </tr>\n",
       "    <tr>\n",
       "      <th>29</th>\n",
       "      <td>300433.XSHE</td>\n",
       "      <td>2018-07-01</td>\n",
       "      <td>4</td>\n",
       "      <td>0.261240</td>\n",
       "      <td>Short</td>\n",
       "      <td>-0.098071</td>\n",
       "      <td>蓝思科技</td>\n",
       "      <td>LSKJ</td>\n",
       "      <td>0.022475</td>\n",
       "    </tr>\n",
       "    <tr>\n",
       "      <th>30</th>\n",
       "      <td>000860.XSHE</td>\n",
       "      <td>2018-07-01</td>\n",
       "      <td>4</td>\n",
       "      <td>0.254562</td>\n",
       "      <td>Short</td>\n",
       "      <td>0.028117</td>\n",
       "      <td>顺鑫农业</td>\n",
       "      <td>SXNY</td>\n",
       "      <td>0.150595</td>\n",
       "    </tr>\n",
       "    <tr>\n",
       "      <th>31</th>\n",
       "      <td>600115.XSHG</td>\n",
       "      <td>2018-07-08</td>\n",
       "      <td>4</td>\n",
       "      <td>0.260147</td>\n",
       "      <td>Short</td>\n",
       "      <td>0.065549</td>\n",
       "      <td>东方航空</td>\n",
       "      <td>DFHK</td>\n",
       "      <td>1.000000</td>\n",
       "    </tr>\n",
       "    <tr>\n",
       "      <th>32</th>\n",
       "      <td>002271.XSHE</td>\n",
       "      <td>2018-07-22</td>\n",
       "      <td>4</td>\n",
       "      <td>0.274318</td>\n",
       "      <td>Short</td>\n",
       "      <td>0.038485</td>\n",
       "      <td>东方雨虹</td>\n",
       "      <td>DFYH</td>\n",
       "      <td>1.000000</td>\n",
       "    </tr>\n",
       "    <tr>\n",
       "      <th>33</th>\n",
       "      <td>002271.XSHE</td>\n",
       "      <td>2018-07-29</td>\n",
       "      <td>4</td>\n",
       "      <td>0.259037</td>\n",
       "      <td>Short</td>\n",
       "      <td>-0.062539</td>\n",
       "      <td>东方雨虹</td>\n",
       "      <td>DFYH</td>\n",
       "      <td>1.000000</td>\n",
       "    </tr>\n",
       "    <tr>\n",
       "      <th>34</th>\n",
       "      <td>002153.XSHE</td>\n",
       "      <td>2018-08-05</td>\n",
       "      <td>0</td>\n",
       "      <td>0.253334</td>\n",
       "      <td>Long</td>\n",
       "      <td>-0.093580</td>\n",
       "      <td>石基信息</td>\n",
       "      <td>SJXX</td>\n",
       "      <td>0.500000</td>\n",
       "    </tr>\n",
       "    <tr>\n",
       "      <th>35</th>\n",
       "      <td>002271.XSHE</td>\n",
       "      <td>2018-08-05</td>\n",
       "      <td>4</td>\n",
       "      <td>0.299387</td>\n",
       "      <td>Short</td>\n",
       "      <td>0.117716</td>\n",
       "      <td>东方雨虹</td>\n",
       "      <td>DFYH</td>\n",
       "      <td>0.314090</td>\n",
       "    </tr>\n",
       "    <tr>\n",
       "      <th>36</th>\n",
       "      <td>300122.XSHE</td>\n",
       "      <td>2018-08-05</td>\n",
       "      <td>4</td>\n",
       "      <td>0.255039</td>\n",
       "      <td>Short</td>\n",
       "      <td>0.092357</td>\n",
       "      <td>智飞生物</td>\n",
       "      <td>ZFSW</td>\n",
       "      <td>0.185910</td>\n",
       "    </tr>\n",
       "    <tr>\n",
       "      <th>37</th>\n",
       "      <td>002153.XSHE</td>\n",
       "      <td>2018-08-19</td>\n",
       "      <td>0</td>\n",
       "      <td>0.255775</td>\n",
       "      <td>Long</td>\n",
       "      <td>-0.049020</td>\n",
       "      <td>石基信息</td>\n",
       "      <td>SJXX</td>\n",
       "      <td>0.500000</td>\n",
       "    </tr>\n",
       "    <tr>\n",
       "      <th>38</th>\n",
       "      <td>000661.XSHE</td>\n",
       "      <td>2018-08-19</td>\n",
       "      <td>4</td>\n",
       "      <td>0.250366</td>\n",
       "      <td>Short</td>\n",
       "      <td>0.069291</td>\n",
       "      <td>长春高新</td>\n",
       "      <td>CCGX</td>\n",
       "      <td>0.500000</td>\n",
       "    </tr>\n",
       "    <tr>\n",
       "      <th>39</th>\n",
       "      <td>002153.XSHE</td>\n",
       "      <td>2018-08-26</td>\n",
       "      <td>0</td>\n",
       "      <td>0.253299</td>\n",
       "      <td>Long</td>\n",
       "      <td>0.110903</td>\n",
       "      <td>石基信息</td>\n",
       "      <td>SJXX</td>\n",
       "      <td>0.500000</td>\n",
       "    </tr>\n",
       "    <tr>\n",
       "      <th>40</th>\n",
       "      <td>000860.XSHE</td>\n",
       "      <td>2018-08-26</td>\n",
       "      <td>4</td>\n",
       "      <td>0.299554</td>\n",
       "      <td>Short</td>\n",
       "      <td>-0.065574</td>\n",
       "      <td>顺鑫农业</td>\n",
       "      <td>SXNY</td>\n",
       "      <td>0.065275</td>\n",
       "    </tr>\n",
       "    <tr>\n",
       "      <th>41</th>\n",
       "      <td>000723.XSHE</td>\n",
       "      <td>2018-08-26</td>\n",
       "      <td>4</td>\n",
       "      <td>0.262522</td>\n",
       "      <td>Short</td>\n",
       "      <td>0.071809</td>\n",
       "      <td>美锦能源</td>\n",
       "      <td>MJNY</td>\n",
       "      <td>0.312885</td>\n",
       "    </tr>\n",
       "    <tr>\n",
       "      <th>42</th>\n",
       "      <td>000661.XSHE</td>\n",
       "      <td>2018-08-26</td>\n",
       "      <td>4</td>\n",
       "      <td>0.258039</td>\n",
       "      <td>Short</td>\n",
       "      <td>-0.171721</td>\n",
       "      <td>长春高新</td>\n",
       "      <td>CCGX</td>\n",
       "      <td>0.078700</td>\n",
       "    </tr>\n",
       "    <tr>\n",
       "      <th>43</th>\n",
       "      <td>300347.XSHE</td>\n",
       "      <td>2018-08-26</td>\n",
       "      <td>4</td>\n",
       "      <td>0.252741</td>\n",
       "      <td>Short</td>\n",
       "      <td>-0.034757</td>\n",
       "      <td>泰格医药</td>\n",
       "      <td>TGYY</td>\n",
       "      <td>0.043140</td>\n",
       "    </tr>\n",
       "    <tr>\n",
       "      <th>44</th>\n",
       "      <td>002153.XSHE</td>\n",
       "      <td>2018-09-09</td>\n",
       "      <td>0</td>\n",
       "      <td>0.261306</td>\n",
       "      <td>Long</td>\n",
       "      <td>-0.022721</td>\n",
       "      <td>石基信息</td>\n",
       "      <td>SJXX</td>\n",
       "      <td>1.000000</td>\n",
       "    </tr>\n",
       "    <tr>\n",
       "      <th>45</th>\n",
       "      <td>002463.XSHE</td>\n",
       "      <td>2018-09-30</td>\n",
       "      <td>0</td>\n",
       "      <td>0.252364</td>\n",
       "      <td>Long</td>\n",
       "      <td>-0.053731</td>\n",
       "      <td>沪电股份</td>\n",
       "      <td>HDGF</td>\n",
       "      <td>1.000000</td>\n",
       "    </tr>\n",
       "    <tr>\n",
       "      <th>46</th>\n",
       "      <td>600588.XSHG</td>\n",
       "      <td>2018-10-21</td>\n",
       "      <td>4</td>\n",
       "      <td>0.329846</td>\n",
       "      <td>Short</td>\n",
       "      <td>-0.086924</td>\n",
       "      <td>用友网络</td>\n",
       "      <td>YYWL</td>\n",
       "      <td>0.039950</td>\n",
       "    </tr>\n",
       "    <tr>\n",
       "      <th>47</th>\n",
       "      <td>002466.XSHE</td>\n",
       "      <td>2018-10-21</td>\n",
       "      <td>4</td>\n",
       "      <td>0.313753</td>\n",
       "      <td>Short</td>\n",
       "      <td>0.029021</td>\n",
       "      <td>天齐锂业</td>\n",
       "      <td>TQLY</td>\n",
       "      <td>0.357240</td>\n",
       "    </tr>\n",
       "    <tr>\n",
       "      <th>48</th>\n",
       "      <td>000977.XSHE</td>\n",
       "      <td>2018-10-21</td>\n",
       "      <td>4</td>\n",
       "      <td>0.273519</td>\n",
       "      <td>Short</td>\n",
       "      <td>0.068326</td>\n",
       "      <td>浪潮信息</td>\n",
       "      <td>LCXX</td>\n",
       "      <td>0.118940</td>\n",
       "    </tr>\n",
       "    <tr>\n",
       "      <th>49</th>\n",
       "      <td>000661.XSHE</td>\n",
       "      <td>2018-10-21</td>\n",
       "      <td>4</td>\n",
       "      <td>0.269300</td>\n",
       "      <td>Short</td>\n",
       "      <td>0.027622</td>\n",
       "      <td>长春高新</td>\n",
       "      <td>CCGX</td>\n",
       "      <td>0.200570</td>\n",
       "    </tr>\n",
       "  </tbody>\n",
       "</table>\n",
       "</div>"
      ],
      "text/plain": [
       "           code predictweek  predicted_range  predicted_prob   type  \\\n",
       "0   601100.XSHG  2018-01-14                0        0.259802   Long   \n",
       "1   002714.XSHE  2018-01-21                0        0.258352   Long   \n",
       "2   002714.XSHE  2018-02-04                0        0.255279   Long   \n",
       "3   300122.XSHE  2018-02-11                4        0.268469  Short   \n",
       "4   600516.XSHG  2018-02-11                4        0.264254  Short   \n",
       "5   002146.XSHE  2018-02-11                4        0.263542  Short   \n",
       "6   600176.XSHG  2018-02-18                4        0.376356  Short   \n",
       "7   000671.XSHE  2018-02-18                4        0.374702  Short   \n",
       "8   603993.XSHG  2018-02-18                4        0.357270  Short   \n",
       "9   002146.XSHE  2018-02-18                4        0.356177  Short   \n",
       "10  601899.XSHG  2018-02-18                4        0.308304  Short   \n",
       "11  300413.XSHE  2018-03-11                0        0.270634   Long   \n",
       "12  002129.XSHE  2018-04-01                4        0.262919  Short   \n",
       "13  600271.XSHG  2018-04-08                0        0.285891   Long   \n",
       "14  300347.XSHE  2018-04-15                0        0.253590   Long   \n",
       "15  002129.XSHE  2018-04-15                4        0.252172  Short   \n",
       "16  300347.XSHE  2018-04-29                0        0.264723   Long   \n",
       "17  002371.XSHE  2018-04-29                0        0.253528   Long   \n",
       "18  600332.XSHG  2018-05-06                0        0.252932   Long   \n",
       "19  002456.XSHE  2018-05-06                4        0.251204  Short   \n",
       "20  603658.XSHG  2018-05-27                0        0.256238   Long   \n",
       "21  600332.XSHG  2018-05-27                4        0.257012  Short   \n",
       "22  603658.XSHG  2018-06-10                0        0.251454   Long   \n",
       "23  300122.XSHE  2018-06-10                4        0.336021  Short   \n",
       "24  603658.XSHG  2018-06-17                0        0.252349   Long   \n",
       "25  300347.XSHE  2018-06-24                0        0.251395   Long   \n",
       "26  603658.XSHG  2018-07-01                0        0.261304   Long   \n",
       "27  600004.XSHG  2018-07-01                4        0.299719  Short   \n",
       "28  601231.XSHG  2018-07-01                4        0.272719  Short   \n",
       "29  300433.XSHE  2018-07-01                4        0.261240  Short   \n",
       "30  000860.XSHE  2018-07-01                4        0.254562  Short   \n",
       "31  600115.XSHG  2018-07-08                4        0.260147  Short   \n",
       "32  002271.XSHE  2018-07-22                4        0.274318  Short   \n",
       "33  002271.XSHE  2018-07-29                4        0.259037  Short   \n",
       "34  002153.XSHE  2018-08-05                0        0.253334   Long   \n",
       "35  002271.XSHE  2018-08-05                4        0.299387  Short   \n",
       "36  300122.XSHE  2018-08-05                4        0.255039  Short   \n",
       "37  002153.XSHE  2018-08-19                0        0.255775   Long   \n",
       "38  000661.XSHE  2018-08-19                4        0.250366  Short   \n",
       "39  002153.XSHE  2018-08-26                0        0.253299   Long   \n",
       "40  000860.XSHE  2018-08-26                4        0.299554  Short   \n",
       "41  000723.XSHE  2018-08-26                4        0.262522  Short   \n",
       "42  000661.XSHE  2018-08-26                4        0.258039  Short   \n",
       "43  300347.XSHE  2018-08-26                4        0.252741  Short   \n",
       "44  002153.XSHE  2018-09-09                0        0.261306   Long   \n",
       "45  002463.XSHE  2018-09-30                0        0.252364   Long   \n",
       "46  600588.XSHG  2018-10-21                4        0.329846  Short   \n",
       "47  002466.XSHE  2018-10-21                4        0.313753  Short   \n",
       "48  000977.XSHE  2018-10-21                4        0.273519  Short   \n",
       "49  000661.XSHE  2018-10-21                4        0.269300  Short   \n",
       "\n",
       "    weekly_returns display_name  name   weights  \n",
       "0        -0.000655         恒立液压  HLYY  1.000000  \n",
       "1         0.016437         牧原股份  MYGF  1.000000  \n",
       "2        -0.096939         牧原股份  MYGF  1.000000  \n",
       "3         0.109214         智飞生物  ZFSW  0.406240  \n",
       "4         0.016488         方大炭素  FDTS  0.244600  \n",
       "5         0.223260         荣盛发展  RSFZ  0.349170  \n",
       "6        -0.084746         中国巨石  ZGJS  0.223540  \n",
       "7        -0.111576          阳光城   YGC  0.183920  \n",
       "8        -0.086587         洛阳钼业  LYMY  0.042740  \n",
       "9        -0.049180         荣盛发展  RSFZ  0.070950  \n",
       "10       -0.049140         紫金矿业  ZJKY  0.478840  \n",
       "11        0.090110         芒果超媒  MGCM  1.000000  \n",
       "12       -0.197905         中环股份  ZHGF  1.000000  \n",
       "13        0.039867         航天信息  HTXX  1.000000  \n",
       "14        0.003576         泰格医药  TGYY  0.500000  \n",
       "15        0.026484         中环股份  ZHGF  0.500000  \n",
       "16        0.091534         泰格医药  TGYY  0.742770  \n",
       "17       -0.051993         北方华创  BFHC  0.257230  \n",
       "18        0.085075          白云山   BYS  0.500000  \n",
       "19       -0.070780          欧菲光   OFG  0.500000  \n",
       "20        0.126303         安图生物  ATSW  0.500000  \n",
       "21       -0.007563          白云山   BYS  0.500000  \n",
       "22        0.088972         安图生物  ATSW  0.500000  \n",
       "23       -0.126996         智飞生物  ZFSW  0.500000  \n",
       "24       -0.041550         安图生物  ATSW  1.000000  \n",
       "25        0.081455         泰格医药  TGYY  1.000000  \n",
       "26       -0.018420         安图生物  ATSW  0.500000  \n",
       "27        0.079422         白云机场  BYJC  0.226625  \n",
       "28       -0.063549         环旭电子  HXDZ  0.100305  \n",
       "29       -0.098071         蓝思科技  LSKJ  0.022475  \n",
       "30        0.028117         顺鑫农业  SXNY  0.150595  \n",
       "31        0.065549         东方航空  DFHK  1.000000  \n",
       "32        0.038485         东方雨虹  DFYH  1.000000  \n",
       "33       -0.062539         东方雨虹  DFYH  1.000000  \n",
       "34       -0.093580         石基信息  SJXX  0.500000  \n",
       "35        0.117716         东方雨虹  DFYH  0.314090  \n",
       "36        0.092357         智飞生物  ZFSW  0.185910  \n",
       "37       -0.049020         石基信息  SJXX  0.500000  \n",
       "38        0.069291         长春高新  CCGX  0.500000  \n",
       "39        0.110903         石基信息  SJXX  0.500000  \n",
       "40       -0.065574         顺鑫农业  SXNY  0.065275  \n",
       "41        0.071809         美锦能源  MJNY  0.312885  \n",
       "42       -0.171721         长春高新  CCGX  0.078700  \n",
       "43       -0.034757         泰格医药  TGYY  0.043140  \n",
       "44       -0.022721         石基信息  SJXX  1.000000  \n",
       "45       -0.053731         沪电股份  HDGF  1.000000  \n",
       "46       -0.086924         用友网络  YYWL  0.039950  \n",
       "47        0.029021         天齐锂业  TQLY  0.357240  \n",
       "48        0.068326         浪潮信息  LCXX  0.118940  \n",
       "49        0.027622         长春高新  CCGX  0.200570  "
      ]
     },
     "execution_count": 214,
     "metadata": {},
     "output_type": "execute_result"
    }
   ],
   "source": [
    "weekly_transactions_logs.head(50)"
   ]
  },
  {
   "cell_type": "code",
   "execution_count": 215,
   "metadata": {},
   "outputs": [],
   "source": [
    "### EQUALLY WEIGHTED\n",
    "\n",
    "# portfolio_weekly_returns = predicted_results.groupby('predictweek')['weekly_returns'].agg(calcPortfolioReturn)\n",
    "# portfolio_weekly_returns = pd.DataFrame(portfolio_weekly_returns)"
   ]
  },
  {
   "cell_type": "markdown",
   "metadata": {},
   "source": [
    "Weekly portfolio returns and calculate the culmulative returns over the prediction period"
   ]
  },
  {
   "cell_type": "code",
   "execution_count": 216,
   "metadata": {},
   "outputs": [],
   "source": [
    "portfolio_weekly_returns.index = pd.to_datetime(portfolio_weekly_returns.index)\n",
    "portfolio_weekly_returns = pd.DataFrame(predict_weeks, columns=['predictweek']).set_index('predictweek'). \\\n",
    "                            join(portfolio_weekly_returns, how='left')\n",
    "portfolio_weekly_returns.fillna(0, inplace=True)\n",
    "portfolio_weekly_returns['cumulative_returns'] = ((1 + portfolio_weekly_returns).cumprod()-1) "
   ]
  },
  {
   "cell_type": "code",
   "execution_count": 217,
   "metadata": {},
   "outputs": [
    {
     "name": "stdout",
     "output_type": "stream",
     "text": [
      "沪深300\n"
     ]
    },
    {
     "data": {
      "image/png": "[encoded data removed]",
      "text/plain": [
       "<Figure size 1200x480 with 1 Axes>"
      ]
     },
     "metadata": {},
     "output_type": "display_data"
    }
   ],
   "source": [
    "bmk_name = getSecurityName('000300.XSHG')[0]\n",
    "print(bmk_name)\n",
    "plotTimeSeries(bmk_prices, 'CSI 300 Benchmark', 'Dates', 'Price Levels')"
   ]
  },
  {
   "cell_type": "markdown",
   "metadata": {},
   "source": [
    "Calculate benchmark returns and cumulative returns"
   ]
  },
  {
   "cell_type": "code",
   "execution_count": 218,
   "metadata": {},
   "outputs": [],
   "source": [
    "bmk_prices = bmk_prices.resample(sample_freq).fillna('ffill')\n",
    "bmk_returns = bmk_prices.pct_change().dropna(axis=0, how='all')\n",
    "bmk_returns = pd.DataFrame(bmk_returns)\n",
    "bmk_returns.columns = ['bmk_weekly_returns']\n",
    "bmk_returns = bmk_returns['2018':'2020']\n",
    "bmk_returns['bmk_cumulative_returns'] = ((1 + bmk_returns).cumprod()-1) "
   ]
  },
  {
   "cell_type": "markdown",
   "metadata": {},
   "source": [
    "Join portfolio and benckmark returns for comparison"
   ]
  },
  {
   "cell_type": "code",
   "execution_count": 219,
   "metadata": {},
   "outputs": [
    {
     "data": {
      "image/png": "[encoded data removed]",
      "text/plain": [
       "<Figure size 1200x480 with 1 Axes>"
      ]
     },
     "metadata": {},
     "output_type": "display_data"
    }
   ],
   "source": [
    "portfolio_weekly_returns = portfolio_weekly_returns.join(bmk_returns, how='left')\n",
    "plotTimeSeries(portfolio_weekly_returns, 'Portfolio vs Benchmark Returns', \n",
    "               'Dates', 'Returns')"
   ]
  },
  {
   "cell_type": "markdown",
   "metadata": {},
   "source": [
    "### Portfolio Performance\n",
    "\n",
    "It is observed that the portfolio cumulative returns (red line) are consistently above the benchmark cumulative returns (green line).  On other words, the portfolio performance outperforms the benchmark consistently over the weeks."
   ]
  },
  {
   "cell_type": "code",
   "execution_count": 220,
   "metadata": {},
   "outputs": [],
   "source": [
    "portfolio_weekly_returns.to_csv('../output/portfolio_weekly_returns.csv', index=False)"
   ]
  },
  {
   "cell_type": "code",
   "execution_count": 221,
   "metadata": {},
   "outputs": [],
   "source": [
    "weekly_transactions_logs.to_csv('../output/weekly_transactions_logs.csv', index=False)"
   ]
  },
  {
   "cell_type": "markdown",
   "metadata": {},
   "source": [
    "## Concluding Notes\n",
    "\n",
    "1. Model should be retrained on weekly basis with the most recent data to reflect the most market events.  I expect such retraining to contribute better portfolio performance especially during stress period.\n",
    "2. Accuracy at around 40% is not fantastic.  Other models like AdaBoost, SVC, etc can be explored to see whether accuracy can improve.  On the other hand, we are only interested in stocks that falls into predicted range of 0 (predicted at least 10% monthly return), the portfolio performance still outperforms the benchmark consistently.\n",
    "3. List of factors are selected based on the reference list found on the first research paper.  Other factors can be consider.  Important factors can be identified and updated on a weekly basis.  Can explore using only the top important factors to reduce noisy and overfitting.\n",
    "4. This analysis focuses on data from JoinQuant and securities inside CSI300.  This can be easily extended to other securities found on different indices as long as the factor data are available.\n",
    "5. Understanding the factors and respective calculation methodology provided by JoinQuant is important.  This will help in factor selection and explaining why the factors are selected for each time period.\n",
    "\n",
    "\n",
    "# Thank you\n",
    "\n",
    "Thanks to JoinQuant (聚宽) for providing such a platform and the necessary data for me to complete such an analysis."
   ]
  },
  {
   "cell_type": "code",
   "execution_count": 222,
   "metadata": {},
   "outputs": [],
   "source": [
    "# !pip install pyportfolioopt"
   ]
  }
 ],
 "metadata": {
  "kernelspec": {
   "display_name": "Python 3",
   "language": "python",
   "name": "python3"
  },
  "language_info": {
   "codemirror_mode": {
    "name": "ipython",
    "version": 3
   },
   "file_extension": ".py",
   "mimetype": "text/x-python",
   "name": "python",
   "nbconvert_exporter": "python",
   "pygments_lexer": "ipython3",
   "version": "3.8.3"
  },
  "toc": {
   "base_numbering": 1,
   "nav_menu": {},
   "number_sections": false,
   "sideBar": true,
   "skip_h1_title": false,
   "title_cell": "MarkDown菜单",
   "title_sidebar": "Contents",
   "toc_cell": false,
   "toc_position": {},
   "toc_section_display": true,
   "toc_window_display": true
  }
 },
 "nbformat": 4,
 "nbformat_minor": 2
}
